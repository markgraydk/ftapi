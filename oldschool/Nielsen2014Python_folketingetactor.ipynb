{
 "metadata": {
  "name": "",
  "signature": "sha256:1a6d123034e5076c679027073069e8a52d37469c7018fb4f04b272c66fc0fb1a"
 },
 "nbformat": 3,
 "nbformat_minor": 0,
 "worksheets": [
  {
   "cells": [
    {
     "cell_type": "code",
     "collapsed": false,
     "input": [
      "from __future__ import print_function\n",
      "\n",
      "from collections import Counter\n",
      "import networkx as nx\n",
      "import requests\n",
      "import pandas as pd\n",
      "import time\n",
      "import matplotlib.pyplot as plt"
     ],
     "language": "python",
     "metadata": {},
     "outputs": [
      {
       "output_type": "stream",
       "stream": "stdout",
       "text": [
        "Couldn't import dot_parser, loading of dot files will not be possible.\n"
       ]
      }
     ],
     "prompt_number": 1
    },
    {
     "cell_type": "code",
     "collapsed": false,
     "input": [
      "# Akt\u00f8rtype\n",
      "url = \"http://oda.ft.dk/api/Akt%C3%B8rtype?$inlinecount=allpages\"\n",
      "aktortype = pd.DataFrame(requests.get(url).json()['value'])"
     ],
     "language": "python",
     "metadata": {},
     "outputs": [],
     "prompt_number": 2
    },
    {
     "cell_type": "code",
     "collapsed": false,
     "input": [
      "aktortype"
     ],
     "language": "python",
     "metadata": {},
     "outputs": [
      {
       "html": [
        "<div style=\"max-height:1000px;max-width:1500px;overflow:auto;\">\n",
        "<table border=\"1\" class=\"dataframe\">\n",
        "  <thead>\n",
        "    <tr style=\"text-align: right;\">\n",
        "      <th></th>\n",
        "      <th>id</th>\n",
        "      <th>opdateringsdato</th>\n",
        "      <th>type</th>\n",
        "    </tr>\n",
        "  </thead>\n",
        "  <tbody>\n",
        "    <tr>\n",
        "      <th>0 </th>\n",
        "      <td>  1</td>\n",
        "      <td>  2014-09-29T15:51:03.19</td>\n",
        "      <td>            Ministeromr\u00e5de</td>\n",
        "    </tr>\n",
        "    <tr>\n",
        "      <th>1 </th>\n",
        "      <td>  2</td>\n",
        "      <td>  2014-09-30T10:25:25.39</td>\n",
        "      <td>             Ministertitel</td>\n",
        "    </tr>\n",
        "    <tr>\n",
        "      <th>2 </th>\n",
        "      <td>  3</td>\n",
        "      <td> 2014-09-28T05:04:32.227</td>\n",
        "      <td>                    Udvalg</td>\n",
        "    </tr>\n",
        "    <tr>\n",
        "      <th>3 </th>\n",
        "      <td>  4</td>\n",
        "      <td>  2014-09-22T11:40:24.84</td>\n",
        "      <td>          Folketingsgruppe</td>\n",
        "    </tr>\n",
        "    <tr>\n",
        "      <th>4 </th>\n",
        "      <td>  5</td>\n",
        "      <td> 2014-09-19T16:12:18.767</td>\n",
        "      <td>                    Person</td>\n",
        "    </tr>\n",
        "    <tr>\n",
        "      <th>5 </th>\n",
        "      <td>  6</td>\n",
        "      <td> 2014-08-06T14:43:17.187</td>\n",
        "      <td>                    Gruppe</td>\n",
        "    </tr>\n",
        "    <tr>\n",
        "      <th>6 </th>\n",
        "      <td>  7</td>\n",
        "      <td> 2014-08-06T14:43:17.187</td>\n",
        "      <td>              Anden gruppe</td>\n",
        "    </tr>\n",
        "    <tr>\n",
        "      <th>7 </th>\n",
        "      <td>  8</td>\n",
        "      <td> 2014-08-06T14:43:17.187</td>\n",
        "      <td>               Ministerium</td>\n",
        "    </tr>\n",
        "    <tr>\n",
        "      <th>8 </th>\n",
        "      <td>  9</td>\n",
        "      <td> 2014-09-10T11:36:11.247</td>\n",
        "      <td>                Kommission</td>\n",
        "    </tr>\n",
        "    <tr>\n",
        "      <th>9 </th>\n",
        "      <td> 10</td>\n",
        "      <td> 2014-09-19T14:02:01.847</td>\n",
        "      <td>              Organisation</td>\n",
        "    </tr>\n",
        "    <tr>\n",
        "      <th>10</th>\n",
        "      <td> 11</td>\n",
        "      <td> 2014-09-22T16:03:42.607</td>\n",
        "      <td> Parlamentarisk forsamling</td>\n",
        "    </tr>\n",
        "    <tr>\n",
        "      <th>11</th>\n",
        "      <td> 12</td>\n",
        "      <td>   2014-09-27T13:07:48.6</td>\n",
        "      <td>              Privatperson</td>\n",
        "    </tr>\n",
        "  </tbody>\n",
        "</table>\n",
        "</div>"
       ],
       "metadata": {},
       "output_type": "pyout",
       "prompt_number": 3,
       "text": [
        "    id          opdateringsdato                       type\n",
        "0    1   2014-09-29T15:51:03.19             Ministeromr\u00e5de\n",
        "1    2   2014-09-30T10:25:25.39              Ministertitel\n",
        "2    3  2014-09-28T05:04:32.227                     Udvalg\n",
        "3    4   2014-09-22T11:40:24.84           Folketingsgruppe\n",
        "4    5  2014-09-19T16:12:18.767                     Person\n",
        "5    6  2014-08-06T14:43:17.187                     Gruppe\n",
        "6    7  2014-08-06T14:43:17.187               Anden gruppe\n",
        "7    8  2014-08-06T14:43:17.187                Ministerium\n",
        "8    9  2014-09-10T11:36:11.247                 Kommission\n",
        "9   10  2014-09-19T14:02:01.847               Organisation\n",
        "10  11  2014-09-22T16:03:42.607  Parlamentarisk forsamling\n",
        "11  12    2014-09-27T13:07:48.6               Privatperson"
       ]
      }
     ],
     "prompt_number": 3
    },
    {
     "cell_type": "code",
     "collapsed": false,
     "input": [
      "url = 'http://oda.ft.dk/api/Akt%C3%B8r?$inlinecount=allpages&$filter=typeid%20eq%205'\n",
      "aktor_person_dict = requests.get(url).json()"
     ],
     "language": "python",
     "metadata": {},
     "outputs": [],
     "prompt_number": 4
    },
    {
     "cell_type": "code",
     "collapsed": false,
     "input": [
      "response = requests.get(url).json()\n",
      "aktor_person_list = []\n",
      "while True:\n",
      "    try: \n",
      "        aktor_person_list.extend(response['value'])\n",
      "        url = response['odata.nextLink']\n",
      "        response = requests.get(url).json()\n",
      "    except:\n",
      "        break\n",
      "    print(url)\n",
      "    time.sleep(3)"
     ],
     "language": "python",
     "metadata": {},
     "outputs": [
      {
       "output_type": "stream",
       "stream": "stdout",
       "text": [
        "http://oda.ft.dk/api/Akt%C3%B8r?$inlinecount=allpages&$filter=typeid%20eq%205&$skip=20\n",
        "http://oda.ft.dk/api/Akt%C3%B8r?$inlinecount=allpages&$filter=typeid%20eq%205&$skip=40"
       ]
      },
      {
       "output_type": "stream",
       "stream": "stdout",
       "text": [
        "\n",
        "http://oda.ft.dk/api/Akt%C3%B8r?$inlinecount=allpages&$filter=typeid%20eq%205&$skip=60"
       ]
      },
      {
       "output_type": "stream",
       "stream": "stdout",
       "text": [
        "\n",
        "http://oda.ft.dk/api/Akt%C3%B8r?$inlinecount=allpages&$filter=typeid%20eq%205&$skip=80"
       ]
      },
      {
       "output_type": "stream",
       "stream": "stdout",
       "text": [
        "\n",
        "http://oda.ft.dk/api/Akt%C3%B8r?$inlinecount=allpages&$filter=typeid%20eq%205&$skip=100"
       ]
      },
      {
       "output_type": "stream",
       "stream": "stdout",
       "text": [
        "\n",
        "http://oda.ft.dk/api/Akt%C3%B8r?$inlinecount=allpages&$filter=typeid%20eq%205&$skip=120"
       ]
      },
      {
       "output_type": "stream",
       "stream": "stdout",
       "text": [
        "\n",
        "http://oda.ft.dk/api/Akt%C3%B8r?$inlinecount=allpages&$filter=typeid%20eq%205&$skip=140"
       ]
      },
      {
       "output_type": "stream",
       "stream": "stdout",
       "text": [
        "\n",
        "http://oda.ft.dk/api/Akt%C3%B8r?$inlinecount=allpages&$filter=typeid%20eq%205&$skip=160"
       ]
      },
      {
       "output_type": "stream",
       "stream": "stdout",
       "text": [
        "\n",
        "http://oda.ft.dk/api/Akt%C3%B8r?$inlinecount=allpages&$filter=typeid%20eq%205&$skip=180"
       ]
      },
      {
       "output_type": "stream",
       "stream": "stdout",
       "text": [
        "\n",
        "http://oda.ft.dk/api/Akt%C3%B8r?$inlinecount=allpages&$filter=typeid%20eq%205&$skip=200"
       ]
      },
      {
       "output_type": "stream",
       "stream": "stdout",
       "text": [
        "\n",
        "http://oda.ft.dk/api/Akt%C3%B8r?$inlinecount=allpages&$filter=typeid%20eq%205&$skip=220"
       ]
      },
      {
       "output_type": "stream",
       "stream": "stdout",
       "text": [
        "\n",
        "http://oda.ft.dk/api/Akt%C3%B8r?$inlinecount=allpages&$filter=typeid%20eq%205&$skip=240"
       ]
      },
      {
       "output_type": "stream",
       "stream": "stdout",
       "text": [
        "\n",
        "http://oda.ft.dk/api/Akt%C3%B8r?$inlinecount=allpages&$filter=typeid%20eq%205&$skip=260"
       ]
      },
      {
       "output_type": "stream",
       "stream": "stdout",
       "text": [
        "\n",
        "http://oda.ft.dk/api/Akt%C3%B8r?$inlinecount=allpages&$filter=typeid%20eq%205&$skip=280"
       ]
      },
      {
       "output_type": "stream",
       "stream": "stdout",
       "text": [
        "\n",
        "http://oda.ft.dk/api/Akt%C3%B8r?$inlinecount=allpages&$filter=typeid%20eq%205&$skip=300"
       ]
      },
      {
       "output_type": "stream",
       "stream": "stdout",
       "text": [
        "\n",
        "http://oda.ft.dk/api/Akt%C3%B8r?$inlinecount=allpages&$filter=typeid%20eq%205&$skip=320"
       ]
      },
      {
       "output_type": "stream",
       "stream": "stdout",
       "text": [
        "\n",
        "http://oda.ft.dk/api/Akt%C3%B8r?$inlinecount=allpages&$filter=typeid%20eq%205&$skip=340"
       ]
      },
      {
       "output_type": "stream",
       "stream": "stdout",
       "text": [
        "\n",
        "http://oda.ft.dk/api/Akt%C3%B8r?$inlinecount=allpages&$filter=typeid%20eq%205&$skip=360"
       ]
      },
      {
       "output_type": "stream",
       "stream": "stdout",
       "text": [
        "\n",
        "http://oda.ft.dk/api/Akt%C3%B8r?$inlinecount=allpages&$filter=typeid%20eq%205&$skip=380"
       ]
      },
      {
       "output_type": "stream",
       "stream": "stdout",
       "text": [
        "\n",
        "http://oda.ft.dk/api/Akt%C3%B8r?$inlinecount=allpages&$filter=typeid%20eq%205&$skip=400"
       ]
      },
      {
       "output_type": "stream",
       "stream": "stdout",
       "text": [
        "\n",
        "http://oda.ft.dk/api/Akt%C3%B8r?$inlinecount=allpages&$filter=typeid%20eq%205&$skip=420"
       ]
      },
      {
       "output_type": "stream",
       "stream": "stdout",
       "text": [
        "\n",
        "http://oda.ft.dk/api/Akt%C3%B8r?$inlinecount=allpages&$filter=typeid%20eq%205&$skip=440"
       ]
      },
      {
       "output_type": "stream",
       "stream": "stdout",
       "text": [
        "\n",
        "http://oda.ft.dk/api/Akt%C3%B8r?$inlinecount=allpages&$filter=typeid%20eq%205&$skip=460"
       ]
      },
      {
       "output_type": "stream",
       "stream": "stdout",
       "text": [
        "\n",
        "http://oda.ft.dk/api/Akt%C3%B8r?$inlinecount=allpages&$filter=typeid%20eq%205&$skip=480"
       ]
      },
      {
       "output_type": "stream",
       "stream": "stdout",
       "text": [
        "\n",
        "http://oda.ft.dk/api/Akt%C3%B8r?$inlinecount=allpages&$filter=typeid%20eq%205&$skip=500"
       ]
      },
      {
       "output_type": "stream",
       "stream": "stdout",
       "text": [
        "\n",
        "http://oda.ft.dk/api/Akt%C3%B8r?$inlinecount=allpages&$filter=typeid%20eq%205&$skip=520"
       ]
      },
      {
       "output_type": "stream",
       "stream": "stdout",
       "text": [
        "\n",
        "http://oda.ft.dk/api/Akt%C3%B8r?$inlinecount=allpages&$filter=typeid%20eq%205&$skip=540"
       ]
      },
      {
       "output_type": "stream",
       "stream": "stdout",
       "text": [
        "\n",
        "http://oda.ft.dk/api/Akt%C3%B8r?$inlinecount=allpages&$filter=typeid%20eq%205&$skip=560"
       ]
      },
      {
       "output_type": "stream",
       "stream": "stdout",
       "text": [
        "\n",
        "http://oda.ft.dk/api/Akt%C3%B8r?$inlinecount=allpages&$filter=typeid%20eq%205&$skip=580"
       ]
      },
      {
       "output_type": "stream",
       "stream": "stdout",
       "text": [
        "\n",
        "http://oda.ft.dk/api/Akt%C3%B8r?$inlinecount=allpages&$filter=typeid%20eq%205&$skip=600"
       ]
      },
      {
       "output_type": "stream",
       "stream": "stdout",
       "text": [
        "\n",
        "http://oda.ft.dk/api/Akt%C3%B8r?$inlinecount=allpages&$filter=typeid%20eq%205&$skip=620"
       ]
      },
      {
       "output_type": "stream",
       "stream": "stdout",
       "text": [
        "\n",
        "http://oda.ft.dk/api/Akt%C3%B8r?$inlinecount=allpages&$filter=typeid%20eq%205&$skip=640"
       ]
      },
      {
       "output_type": "stream",
       "stream": "stdout",
       "text": [
        "\n",
        "http://oda.ft.dk/api/Akt%C3%B8r?$inlinecount=allpages&$filter=typeid%20eq%205&$skip=660"
       ]
      },
      {
       "output_type": "stream",
       "stream": "stdout",
       "text": [
        "\n",
        "http://oda.ft.dk/api/Akt%C3%B8r?$inlinecount=allpages&$filter=typeid%20eq%205&$skip=680"
       ]
      },
      {
       "output_type": "stream",
       "stream": "stdout",
       "text": [
        "\n",
        "http://oda.ft.dk/api/Akt%C3%B8r?$inlinecount=allpages&$filter=typeid%20eq%205&$skip=700"
       ]
      },
      {
       "output_type": "stream",
       "stream": "stdout",
       "text": [
        "\n",
        "http://oda.ft.dk/api/Akt%C3%B8r?$inlinecount=allpages&$filter=typeid%20eq%205&$skip=720"
       ]
      },
      {
       "output_type": "stream",
       "stream": "stdout",
       "text": [
        "\n",
        "http://oda.ft.dk/api/Akt%C3%B8r?$inlinecount=allpages&$filter=typeid%20eq%205&$skip=740"
       ]
      },
      {
       "output_type": "stream",
       "stream": "stdout",
       "text": [
        "\n",
        "http://oda.ft.dk/api/Akt%C3%B8r?$inlinecount=allpages&$filter=typeid%20eq%205&$skip=760"
       ]
      },
      {
       "output_type": "stream",
       "stream": "stdout",
       "text": [
        "\n",
        "http://oda.ft.dk/api/Akt%C3%B8r?$inlinecount=allpages&$filter=typeid%20eq%205&$skip=780"
       ]
      },
      {
       "output_type": "stream",
       "stream": "stdout",
       "text": [
        "\n",
        "http://oda.ft.dk/api/Akt%C3%B8r?$inlinecount=allpages&$filter=typeid%20eq%205&$skip=800"
       ]
      },
      {
       "output_type": "stream",
       "stream": "stdout",
       "text": [
        "\n",
        "http://oda.ft.dk/api/Akt%C3%B8r?$inlinecount=allpages&$filter=typeid%20eq%205&$skip=820"
       ]
      },
      {
       "output_type": "stream",
       "stream": "stdout",
       "text": [
        "\n",
        "http://oda.ft.dk/api/Akt%C3%B8r?$inlinecount=allpages&$filter=typeid%20eq%205&$skip=840"
       ]
      },
      {
       "output_type": "stream",
       "stream": "stdout",
       "text": [
        "\n",
        "http://oda.ft.dk/api/Akt%C3%B8r?$inlinecount=allpages&$filter=typeid%20eq%205&$skip=860"
       ]
      },
      {
       "output_type": "stream",
       "stream": "stdout",
       "text": [
        "\n",
        "http://oda.ft.dk/api/Akt%C3%B8r?$inlinecount=allpages&$filter=typeid%20eq%205&$skip=880"
       ]
      },
      {
       "output_type": "stream",
       "stream": "stdout",
       "text": [
        "\n",
        "http://oda.ft.dk/api/Akt%C3%B8r?$inlinecount=allpages&$filter=typeid%20eq%205&$skip=900"
       ]
      },
      {
       "output_type": "stream",
       "stream": "stdout",
       "text": [
        "\n",
        "http://oda.ft.dk/api/Akt%C3%B8r?$inlinecount=allpages&$filter=typeid%20eq%205&$skip=920"
       ]
      },
      {
       "output_type": "stream",
       "stream": "stdout",
       "text": [
        "\n",
        "http://oda.ft.dk/api/Akt%C3%B8r?$inlinecount=allpages&$filter=typeid%20eq%205&$skip=940"
       ]
      },
      {
       "output_type": "stream",
       "stream": "stdout",
       "text": [
        "\n",
        "http://oda.ft.dk/api/Akt%C3%B8r?$inlinecount=allpages&$filter=typeid%20eq%205&$skip=960"
       ]
      },
      {
       "output_type": "stream",
       "stream": "stdout",
       "text": [
        "\n",
        "http://oda.ft.dk/api/Akt%C3%B8r?$inlinecount=allpages&$filter=typeid%20eq%205&$skip=980"
       ]
      },
      {
       "output_type": "stream",
       "stream": "stdout",
       "text": [
        "\n",
        "http://oda.ft.dk/api/Akt%C3%B8r?$inlinecount=allpages&$filter=typeid%20eq%205&$skip=1000"
       ]
      },
      {
       "output_type": "stream",
       "stream": "stdout",
       "text": [
        "\n",
        "http://oda.ft.dk/api/Akt%C3%B8r?$inlinecount=allpages&$filter=typeid%20eq%205&$skip=1020"
       ]
      },
      {
       "output_type": "stream",
       "stream": "stdout",
       "text": [
        "\n",
        "http://oda.ft.dk/api/Akt%C3%B8r?$inlinecount=allpages&$filter=typeid%20eq%205&$skip=1040"
       ]
      },
      {
       "output_type": "stream",
       "stream": "stdout",
       "text": [
        "\n",
        "http://oda.ft.dk/api/Akt%C3%B8r?$inlinecount=allpages&$filter=typeid%20eq%205&$skip=1060"
       ]
      },
      {
       "output_type": "stream",
       "stream": "stdout",
       "text": [
        "\n",
        "http://oda.ft.dk/api/Akt%C3%B8r?$inlinecount=allpages&$filter=typeid%20eq%205&$skip=1080"
       ]
      },
      {
       "output_type": "stream",
       "stream": "stdout",
       "text": [
        "\n",
        "http://oda.ft.dk/api/Akt%C3%B8r?$inlinecount=allpages&$filter=typeid%20eq%205&$skip=1100"
       ]
      },
      {
       "output_type": "stream",
       "stream": "stdout",
       "text": [
        "\n",
        "http://oda.ft.dk/api/Akt%C3%B8r?$inlinecount=allpages&$filter=typeid%20eq%205&$skip=1120"
       ]
      },
      {
       "output_type": "stream",
       "stream": "stdout",
       "text": [
        "\n",
        "http://oda.ft.dk/api/Akt%C3%B8r?$inlinecount=allpages&$filter=typeid%20eq%205&$skip=1140"
       ]
      },
      {
       "output_type": "stream",
       "stream": "stdout",
       "text": [
        "\n",
        "http://oda.ft.dk/api/Akt%C3%B8r?$inlinecount=allpages&$filter=typeid%20eq%205&$skip=1160"
       ]
      },
      {
       "output_type": "stream",
       "stream": "stdout",
       "text": [
        "\n",
        "http://oda.ft.dk/api/Akt%C3%B8r?$inlinecount=allpages&$filter=typeid%20eq%205&$skip=1180"
       ]
      },
      {
       "output_type": "stream",
       "stream": "stdout",
       "text": [
        "\n",
        "http://oda.ft.dk/api/Akt%C3%B8r?$inlinecount=allpages&$filter=typeid%20eq%205&$skip=1200"
       ]
      },
      {
       "output_type": "stream",
       "stream": "stdout",
       "text": [
        "\n",
        "http://oda.ft.dk/api/Akt%C3%B8r?$inlinecount=allpages&$filter=typeid%20eq%205&$skip=1220"
       ]
      },
      {
       "output_type": "stream",
       "stream": "stdout",
       "text": [
        "\n",
        "http://oda.ft.dk/api/Akt%C3%B8r?$inlinecount=allpages&$filter=typeid%20eq%205&$skip=1240"
       ]
      },
      {
       "output_type": "stream",
       "stream": "stdout",
       "text": [
        "\n",
        "http://oda.ft.dk/api/Akt%C3%B8r?$inlinecount=allpages&$filter=typeid%20eq%205&$skip=1260"
       ]
      },
      {
       "output_type": "stream",
       "stream": "stdout",
       "text": [
        "\n",
        "http://oda.ft.dk/api/Akt%C3%B8r?$inlinecount=allpages&$filter=typeid%20eq%205&$skip=1280"
       ]
      },
      {
       "output_type": "stream",
       "stream": "stdout",
       "text": [
        "\n",
        "http://oda.ft.dk/api/Akt%C3%B8r?$inlinecount=allpages&$filter=typeid%20eq%205&$skip=1300"
       ]
      },
      {
       "output_type": "stream",
       "stream": "stdout",
       "text": [
        "\n",
        "http://oda.ft.dk/api/Akt%C3%B8r?$inlinecount=allpages&$filter=typeid%20eq%205&$skip=1320"
       ]
      },
      {
       "output_type": "stream",
       "stream": "stdout",
       "text": [
        "\n",
        "http://oda.ft.dk/api/Akt%C3%B8r?$inlinecount=allpages&$filter=typeid%20eq%205&$skip=1340"
       ]
      },
      {
       "output_type": "stream",
       "stream": "stdout",
       "text": [
        "\n",
        "http://oda.ft.dk/api/Akt%C3%B8r?$inlinecount=allpages&$filter=typeid%20eq%205&$skip=1360"
       ]
      },
      {
       "output_type": "stream",
       "stream": "stdout",
       "text": [
        "\n",
        "http://oda.ft.dk/api/Akt%C3%B8r?$inlinecount=allpages&$filter=typeid%20eq%205&$skip=1380"
       ]
      },
      {
       "output_type": "stream",
       "stream": "stdout",
       "text": [
        "\n",
        "http://oda.ft.dk/api/Akt%C3%B8r?$inlinecount=allpages&$filter=typeid%20eq%205&$skip=1400"
       ]
      },
      {
       "output_type": "stream",
       "stream": "stdout",
       "text": [
        "\n",
        "http://oda.ft.dk/api/Akt%C3%B8r?$inlinecount=allpages&$filter=typeid%20eq%205&$skip=1420"
       ]
      },
      {
       "output_type": "stream",
       "stream": "stdout",
       "text": [
        "\n",
        "http://oda.ft.dk/api/Akt%C3%B8r?$inlinecount=allpages&$filter=typeid%20eq%205&$skip=1440"
       ]
      },
      {
       "output_type": "stream",
       "stream": "stdout",
       "text": [
        "\n",
        "http://oda.ft.dk/api/Akt%C3%B8r?$inlinecount=allpages&$filter=typeid%20eq%205&$skip=1460"
       ]
      },
      {
       "output_type": "stream",
       "stream": "stdout",
       "text": [
        "\n",
        "http://oda.ft.dk/api/Akt%C3%B8r?$inlinecount=allpages&$filter=typeid%20eq%205&$skip=1480"
       ]
      },
      {
       "output_type": "stream",
       "stream": "stdout",
       "text": [
        "\n",
        "http://oda.ft.dk/api/Akt%C3%B8r?$inlinecount=allpages&$filter=typeid%20eq%205&$skip=1500"
       ]
      },
      {
       "output_type": "stream",
       "stream": "stdout",
       "text": [
        "\n",
        "http://oda.ft.dk/api/Akt%C3%B8r?$inlinecount=allpages&$filter=typeid%20eq%205&$skip=1520"
       ]
      },
      {
       "output_type": "stream",
       "stream": "stdout",
       "text": [
        "\n",
        "http://oda.ft.dk/api/Akt%C3%B8r?$inlinecount=allpages&$filter=typeid%20eq%205&$skip=1540"
       ]
      },
      {
       "output_type": "stream",
       "stream": "stdout",
       "text": [
        "\n",
        "http://oda.ft.dk/api/Akt%C3%B8r?$inlinecount=allpages&$filter=typeid%20eq%205&$skip=1560"
       ]
      },
      {
       "output_type": "stream",
       "stream": "stdout",
       "text": [
        "\n",
        "http://oda.ft.dk/api/Akt%C3%B8r?$inlinecount=allpages&$filter=typeid%20eq%205&$skip=1580"
       ]
      },
      {
       "output_type": "stream",
       "stream": "stdout",
       "text": [
        "\n",
        "http://oda.ft.dk/api/Akt%C3%B8r?$inlinecount=allpages&$filter=typeid%20eq%205&$skip=1600"
       ]
      },
      {
       "output_type": "stream",
       "stream": "stdout",
       "text": [
        "\n",
        "http://oda.ft.dk/api/Akt%C3%B8r?$inlinecount=allpages&$filter=typeid%20eq%205&$skip=1620"
       ]
      },
      {
       "output_type": "stream",
       "stream": "stdout",
       "text": [
        "\n",
        "http://oda.ft.dk/api/Akt%C3%B8r?$inlinecount=allpages&$filter=typeid%20eq%205&$skip=1640"
       ]
      },
      {
       "output_type": "stream",
       "stream": "stdout",
       "text": [
        "\n",
        "http://oda.ft.dk/api/Akt%C3%B8r?$inlinecount=allpages&$filter=typeid%20eq%205&$skip=1660"
       ]
      },
      {
       "output_type": "stream",
       "stream": "stdout",
       "text": [
        "\n",
        "http://oda.ft.dk/api/Akt%C3%B8r?$inlinecount=allpages&$filter=typeid%20eq%205&$skip=1680"
       ]
      },
      {
       "output_type": "stream",
       "stream": "stdout",
       "text": [
        "\n",
        "http://oda.ft.dk/api/Akt%C3%B8r?$inlinecount=allpages&$filter=typeid%20eq%205&$skip=1700"
       ]
      },
      {
       "output_type": "stream",
       "stream": "stdout",
       "text": [
        "\n",
        "http://oda.ft.dk/api/Akt%C3%B8r?$inlinecount=allpages&$filter=typeid%20eq%205&$skip=1720"
       ]
      },
      {
       "output_type": "stream",
       "stream": "stdout",
       "text": [
        "\n",
        "http://oda.ft.dk/api/Akt%C3%B8r?$inlinecount=allpages&$filter=typeid%20eq%205&$skip=1740"
       ]
      },
      {
       "output_type": "stream",
       "stream": "stdout",
       "text": [
        "\n",
        "http://oda.ft.dk/api/Akt%C3%B8r?$inlinecount=allpages&$filter=typeid%20eq%205&$skip=1760"
       ]
      },
      {
       "output_type": "stream",
       "stream": "stdout",
       "text": [
        "\n",
        "http://oda.ft.dk/api/Akt%C3%B8r?$inlinecount=allpages&$filter=typeid%20eq%205&$skip=1780"
       ]
      },
      {
       "output_type": "stream",
       "stream": "stdout",
       "text": [
        "\n",
        "http://oda.ft.dk/api/Akt%C3%B8r?$inlinecount=allpages&$filter=typeid%20eq%205&$skip=1800"
       ]
      },
      {
       "output_type": "stream",
       "stream": "stdout",
       "text": [
        "\n",
        "http://oda.ft.dk/api/Akt%C3%B8r?$inlinecount=allpages&$filter=typeid%20eq%205&$skip=1820"
       ]
      },
      {
       "output_type": "stream",
       "stream": "stdout",
       "text": [
        "\n",
        "http://oda.ft.dk/api/Akt%C3%B8r?$inlinecount=allpages&$filter=typeid%20eq%205&$skip=1840"
       ]
      },
      {
       "output_type": "stream",
       "stream": "stdout",
       "text": [
        "\n",
        "http://oda.ft.dk/api/Akt%C3%B8r?$inlinecount=allpages&$filter=typeid%20eq%205&$skip=1860"
       ]
      },
      {
       "output_type": "stream",
       "stream": "stdout",
       "text": [
        "\n",
        "http://oda.ft.dk/api/Akt%C3%B8r?$inlinecount=allpages&$filter=typeid%20eq%205&$skip=1880"
       ]
      },
      {
       "output_type": "stream",
       "stream": "stdout",
       "text": [
        "\n",
        "http://oda.ft.dk/api/Akt%C3%B8r?$inlinecount=allpages&$filter=typeid%20eq%205&$skip=1900"
       ]
      },
      {
       "output_type": "stream",
       "stream": "stdout",
       "text": [
        "\n",
        "http://oda.ft.dk/api/Akt%C3%B8r?$inlinecount=allpages&$filter=typeid%20eq%205&$skip=1920"
       ]
      },
      {
       "output_type": "stream",
       "stream": "stdout",
       "text": [
        "\n",
        "http://oda.ft.dk/api/Akt%C3%B8r?$inlinecount=allpages&$filter=typeid%20eq%205&$skip=1940"
       ]
      },
      {
       "output_type": "stream",
       "stream": "stdout",
       "text": [
        "\n"
       ]
      }
     ],
     "prompt_number": 5
    },
    {
     "cell_type": "code",
     "collapsed": false,
     "input": [
      "aktor_person = pd.DataFrame(aktor_person_list)"
     ],
     "language": "python",
     "metadata": {},
     "outputs": [],
     "prompt_number": 6
    },
    {
     "cell_type": "code",
     "collapsed": false,
     "input": [
      "aktor_person"
     ],
     "language": "python",
     "metadata": {},
     "outputs": [
      {
       "html": [
        "<div style=\"max-height:1000px;max-width:1500px;overflow:auto;\">\n",
        "<table border=\"1\" class=\"dataframe\">\n",
        "  <thead>\n",
        "    <tr style=\"text-align: right;\">\n",
        "      <th></th>\n",
        "      <th>biografi</th>\n",
        "      <th>efternavn</th>\n",
        "      <th>fornavn</th>\n",
        "      <th>gruppenavnkort</th>\n",
        "      <th>id</th>\n",
        "      <th>navn</th>\n",
        "      <th>opdateringsdato</th>\n",
        "      <th>periodeid</th>\n",
        "      <th>slutdato</th>\n",
        "      <th>startdato</th>\n",
        "      <th>typeid</th>\n",
        "    </tr>\n",
        "  </thead>\n",
        "  <tbody>\n",
        "    <tr>\n",
        "      <th>0   </th>\n",
        "      <td> &lt;?xml version=\"1.0\" encoding=\"utf-16\"?&gt;\\n&lt;memb...</td>\n",
        "      <td>                      Aaen</td>\n",
        "      <td>             Frank</td>\n",
        "      <td> None</td>\n",
        "      <td>     5</td>\n",
        "      <td>                            Frank Aaen</td>\n",
        "      <td>  2014-09-11T17:59:38.67</td>\n",
        "      <td> None</td>\n",
        "      <td> None</td>\n",
        "      <td> None</td>\n",
        "      <td> 5</td>\n",
        "    </tr>\n",
        "    <tr>\n",
        "      <th>1   </th>\n",
        "      <td> &lt;?xml version=\"1.0\" encoding=\"utf-16\"?&gt;\\n&lt;memb...</td>\n",
        "      <td>                    Wammen</td>\n",
        "      <td>           Nicolai</td>\n",
        "      <td> None</td>\n",
        "      <td>    12</td>\n",
        "      <td>                        Nicolai Wammen</td>\n",
        "      <td> 2014-09-11T16:37:20.137</td>\n",
        "      <td> None</td>\n",
        "      <td> None</td>\n",
        "      <td> None</td>\n",
        "      <td> 5</td>\n",
        "    </tr>\n",
        "    <tr>\n",
        "      <th>2   </th>\n",
        "      <td> &lt;?xml version=\"1.0\" encoding=\"utf-16\"?&gt;\\n&lt;memb...</td>\n",
        "      <td>                    Olsvig</td>\n",
        "      <td>              Sara</td>\n",
        "      <td> None</td>\n",
        "      <td>    13</td>\n",
        "      <td>                           Sara Olsvig</td>\n",
        "      <td>  2014-09-12T11:13:15.26</td>\n",
        "      <td> None</td>\n",
        "      <td> None</td>\n",
        "      <td> None</td>\n",
        "      <td> 5</td>\n",
        "    </tr>\n",
        "    <tr>\n",
        "      <th>3   </th>\n",
        "      <td> &lt;?xml version=\"1.0\" encoding=\"utf-16\"?&gt;\\n&lt;memb...</td>\n",
        "      <td>                  Antorini</td>\n",
        "      <td>         Christine</td>\n",
        "      <td> None</td>\n",
        "      <td>    17</td>\n",
        "      <td>                    Christine Antorini</td>\n",
        "      <td>  2014-09-11T17:56:30.53</td>\n",
        "      <td> None</td>\n",
        "      <td> None</td>\n",
        "      <td> None</td>\n",
        "      <td> 5</td>\n",
        "    </tr>\n",
        "    <tr>\n",
        "      <th>4   </th>\n",
        "      <td> &lt;?xml version=\"1.0\" encoding=\"utf-16\"?&gt;\\n&lt;memb...</td>\n",
        "      <td>                Ahrendtsen</td>\n",
        "      <td>              Alex</td>\n",
        "      <td> None</td>\n",
        "      <td>    18</td>\n",
        "      <td>                       Alex Ahrendtsen</td>\n",
        "      <td> 2014-09-22T15:37:28.447</td>\n",
        "      <td> None</td>\n",
        "      <td> None</td>\n",
        "      <td> None</td>\n",
        "      <td> 5</td>\n",
        "    </tr>\n",
        "    <tr>\n",
        "      <th>5   </th>\n",
        "      <td> &lt;?xml version=\"1.0\" encoding=\"utf-16\"?&gt;\\n&lt;memb...</td>\n",
        "      <td>                   Corydon</td>\n",
        "      <td>            Bjarne</td>\n",
        "      <td> None</td>\n",
        "      <td>    23</td>\n",
        "      <td>                        Bjarne Corydon</td>\n",
        "      <td> 2014-09-22T15:37:54.163</td>\n",
        "      <td> None</td>\n",
        "      <td> None</td>\n",
        "      <td> None</td>\n",
        "      <td> 5</td>\n",
        "    </tr>\n",
        "    <tr>\n",
        "      <th>6   </th>\n",
        "      <td> &lt;?xml version=\"1.0\" encoding=\"utf-16\"?&gt;\\n&lt;memb...</td>\n",
        "      <td>                 Lauritzen</td>\n",
        "      <td>           Karsten</td>\n",
        "      <td> None</td>\n",
        "      <td>    24</td>\n",
        "      <td>                     Karsten Lauritzen</td>\n",
        "      <td>   2014-09-22T13:13:58.1</td>\n",
        "      <td> None</td>\n",
        "      <td> None</td>\n",
        "      <td> None</td>\n",
        "      <td> 5</td>\n",
        "    </tr>\n",
        "    <tr>\n",
        "      <th>7   </th>\n",
        "      <td> &lt;?xml version=\"1.0\" encoding=\"utf-16\"?&gt;\\n&lt;memb...</td>\n",
        "      <td>                    Larsen</td>\n",
        "      <td>       Henrik Sass</td>\n",
        "      <td> None</td>\n",
        "      <td>    28</td>\n",
        "      <td>                    Henrik Sass Larsen</td>\n",
        "      <td>  2014-09-11T16:53:42.96</td>\n",
        "      <td> None</td>\n",
        "      <td> None</td>\n",
        "      <td> None</td>\n",
        "      <td> 5</td>\n",
        "    </tr>\n",
        "    <tr>\n",
        "      <th>8   </th>\n",
        "      <td> &lt;?xml version=\"1.0\" encoding=\"utf-16\"?&gt;\\n&lt;memb...</td>\n",
        "      <td>                   Nielsen</td>\n",
        "      <td>         Holger K.</td>\n",
        "      <td> None</td>\n",
        "      <td>    33</td>\n",
        "      <td>                     Holger K. Nielsen</td>\n",
        "      <td> 2014-09-11T16:17:15.863</td>\n",
        "      <td> None</td>\n",
        "      <td> None</td>\n",
        "      <td> None</td>\n",
        "      <td> 5</td>\n",
        "    </tr>\n",
        "    <tr>\n",
        "      <th>9   </th>\n",
        "      <td> &lt;?xml version=\"1.0\" encoding=\"utf-16\"?&gt;\\n&lt;memb...</td>\n",
        "      <td>                  Espersen</td>\n",
        "      <td>             S\u00f8ren</td>\n",
        "      <td> None</td>\n",
        "      <td>    34</td>\n",
        "      <td>                        S\u00f8ren Espersen</td>\n",
        "      <td>  2014-09-11T18:02:18.31</td>\n",
        "      <td> None</td>\n",
        "      <td> None</td>\n",
        "      <td> None</td>\n",
        "      <td> 5</td>\n",
        "    </tr>\n",
        "    <tr>\n",
        "      <th>10  </th>\n",
        "      <td> &lt;?xml version=\"1.0\" encoding=\"utf-16\"?&gt;\\n&lt;memb...</td>\n",
        "      <td>                      Krag</td>\n",
        "      <td>            Astrid</td>\n",
        "      <td> None</td>\n",
        "      <td>    38</td>\n",
        "      <td>                           Astrid Krag</td>\n",
        "      <td> 2014-09-22T13:50:53.057</td>\n",
        "      <td> None</td>\n",
        "      <td> None</td>\n",
        "      <td> None</td>\n",
        "      <td> 5</td>\n",
        "    </tr>\n",
        "    <tr>\n",
        "      <th>11  </th>\n",
        "      <td> &lt;?xml version=\"1.0\" encoding=\"utf-16\"?&gt;\\n&lt;memb...</td>\n",
        "      <td>                      Juhl</td>\n",
        "      <td>         Christian</td>\n",
        "      <td> None</td>\n",
        "      <td>    39</td>\n",
        "      <td>                        Christian Juhl</td>\n",
        "      <td>  2014-09-22T15:40:25.82</td>\n",
        "      <td> None</td>\n",
        "      <td> None</td>\n",
        "      <td> None</td>\n",
        "      <td> 5</td>\n",
        "    </tr>\n",
        "    <tr>\n",
        "      <th>12  </th>\n",
        "      <td> &lt;?xml version=\"1.0\" encoding=\"utf-16\"?&gt;\\n&lt;memb...</td>\n",
        "      <td>                      Dyhr</td>\n",
        "      <td>         Pia Olsen</td>\n",
        "      <td> None</td>\n",
        "      <td>    43</td>\n",
        "      <td>                        Pia Olsen Dyhr</td>\n",
        "      <td> 2014-09-22T12:43:41.067</td>\n",
        "      <td> None</td>\n",
        "      <td> None</td>\n",
        "      <td> None</td>\n",
        "      <td> 5</td>\n",
        "    </tr>\n",
        "    <tr>\n",
        "      <th>13  </th>\n",
        "      <td> &lt;?xml version=\"1.0\" encoding=\"utf-16\"?&gt;\\n&lt;memb...</td>\n",
        "      <td>                 Hyllested</td>\n",
        "      <td>           Henning</td>\n",
        "      <td> None</td>\n",
        "      <td>    44</td>\n",
        "      <td>                     Henning Hyllested</td>\n",
        "      <td>  2014-09-22T15:39:24.04</td>\n",
        "      <td> None</td>\n",
        "      <td> None</td>\n",
        "      <td> None</td>\n",
        "      <td> 5</td>\n",
        "    </tr>\n",
        "    <tr>\n",
        "      <th>14  </th>\n",
        "      <td> &lt;?xml version=\"1.0\" encoding=\"utf-16\"?&gt;\\n&lt;memb...</td>\n",
        "      <td>                  H\u00e6kkerup</td>\n",
        "      <td>             Karen</td>\n",
        "      <td> None</td>\n",
        "      <td>    47</td>\n",
        "      <td>                        Karen H\u00e6kkerup</td>\n",
        "      <td> 2014-09-11T18:10:33.687</td>\n",
        "      <td> None</td>\n",
        "      <td> None</td>\n",
        "      <td> None</td>\n",
        "      <td> 5</td>\n",
        "    </tr>\n",
        "    <tr>\n",
        "      <th>15  </th>\n",
        "      <td> &lt;?xml version=\"1.0\" encoding=\"utf-16\"?&gt;\\n&lt;memb...</td>\n",
        "      <td>                   Skaarup</td>\n",
        "      <td>             Peter</td>\n",
        "      <td> None</td>\n",
        "      <td>    48</td>\n",
        "      <td>                         Peter Skaarup</td>\n",
        "      <td> 2014-09-11T17:01:38.727</td>\n",
        "      <td> None</td>\n",
        "      <td> None</td>\n",
        "      <td> None</td>\n",
        "      <td> 5</td>\n",
        "    </tr>\n",
        "    <tr>\n",
        "      <th>16  </th>\n",
        "      <td> &lt;?xml version=\"1.0\" encoding=\"utf-16\"?&gt;\\n&lt;memb...</td>\n",
        "      <td>                  Bonnesen</td>\n",
        "      <td>            Erling</td>\n",
        "      <td> None</td>\n",
        "      <td>    49</td>\n",
        "      <td>                       Erling Bonnesen</td>\n",
        "      <td>  2014-09-11T17:14:35.18</td>\n",
        "      <td> None</td>\n",
        "      <td> None</td>\n",
        "      <td> None</td>\n",
        "      <td> 5</td>\n",
        "    </tr>\n",
        "    <tr>\n",
        "      <th>17  </th>\n",
        "      <td> &lt;?xml version=\"1.0\" encoding=\"utf-16\"?&gt;\\n&lt;memb...</td>\n",
        "      <td>                     Blixt</td>\n",
        "      <td>          Liselott</td>\n",
        "      <td> None</td>\n",
        "      <td>    50</td>\n",
        "      <td>                        Liselott Blixt</td>\n",
        "      <td> 2014-09-22T13:21:26.587</td>\n",
        "      <td> None</td>\n",
        "      <td> None</td>\n",
        "      <td> None</td>\n",
        "      <td> 5</td>\n",
        "    </tr>\n",
        "    <tr>\n",
        "      <th>18  </th>\n",
        "      <td> &lt;?xml version=\"1.0\" encoding=\"utf-16\"?&gt;\\n&lt;memb...</td>\n",
        "      <td>                    Jelved</td>\n",
        "      <td>          Marianne</td>\n",
        "      <td> None</td>\n",
        "      <td>    55</td>\n",
        "      <td>                       Marianne Jelved</td>\n",
        "      <td> 2014-09-11T16:33:17.237</td>\n",
        "      <td> None</td>\n",
        "      <td> None</td>\n",
        "      <td> None</td>\n",
        "      <td> 5</td>\n",
        "    </tr>\n",
        "    <tr>\n",
        "      <th>19  </th>\n",
        "      <td> &lt;?xml version=\"1.0\" encoding=\"utf-16\"?&gt;\\n&lt;memb...</td>\n",
        "      <td>                  N\u00f8dgaard</td>\n",
        "      <td>             Karin</td>\n",
        "      <td> None</td>\n",
        "      <td>    56</td>\n",
        "      <td>                        Karin N\u00f8dgaard</td>\n",
        "      <td> 2014-09-11T18:07:35.937</td>\n",
        "      <td> None</td>\n",
        "      <td> None</td>\n",
        "      <td> None</td>\n",
        "      <td> 5</td>\n",
        "    </tr>\n",
        "    <tr>\n",
        "      <th>20  </th>\n",
        "      <td> &lt;?xml version=\"1.0\" encoding=\"utf-16\"?&gt;\\n&lt;memb...</td>\n",
        "      <td>             Engel-Schmidt</td>\n",
        "      <td>             Jakob</td>\n",
        "      <td> None</td>\n",
        "      <td>    57</td>\n",
        "      <td>                   Jakob Engel-Schmidt</td>\n",
        "      <td> 2014-09-22T16:19:55.187</td>\n",
        "      <td> None</td>\n",
        "      <td> None</td>\n",
        "      <td> None</td>\n",
        "      <td> 5</td>\n",
        "    </tr>\n",
        "    <tr>\n",
        "      <th>21  </th>\n",
        "      <td> &lt;?xml version=\"1.0\" encoding=\"utf-16\"?&gt;\\n&lt;memb...</td>\n",
        "      <td>                  Petersen</td>\n",
        "      <td>     Rasmus Helveg</td>\n",
        "      <td> None</td>\n",
        "      <td>    59</td>\n",
        "      <td>                Rasmus Helveg Petersen</td>\n",
        "      <td> 2014-09-22T15:35:54.617</td>\n",
        "      <td> None</td>\n",
        "      <td> None</td>\n",
        "      <td> None</td>\n",
        "      <td> 5</td>\n",
        "    </tr>\n",
        "    <tr>\n",
        "      <th>22  </th>\n",
        "      <td> &lt;?xml version=\"1.0\" encoding=\"utf-16\"?&gt;\\n&lt;memb...</td>\n",
        "      <td>                Vilhelmsen</td>\n",
        "      <td>           Annette</td>\n",
        "      <td> None</td>\n",
        "      <td>    62</td>\n",
        "      <td>                    Annette Vilhelmsen</td>\n",
        "      <td> 2014-09-22T14:09:24.483</td>\n",
        "      <td> None</td>\n",
        "      <td> None</td>\n",
        "      <td> None</td>\n",
        "      <td> 5</td>\n",
        "    </tr>\n",
        "    <tr>\n",
        "      <th>23  </th>\n",
        "      <td> &lt;?xml version=\"1.0\" encoding=\"utf-16\"?&gt;\\n&lt;memb...</td>\n",
        "      <td>                    Larsen</td>\n",
        "      <td> Flemming Damgaard</td>\n",
        "      <td> None</td>\n",
        "      <td>    64</td>\n",
        "      <td>              Flemming Damgaard Larsen</td>\n",
        "      <td> 2014-09-11T16:55:21.087</td>\n",
        "      <td> None</td>\n",
        "      <td> None</td>\n",
        "      <td> None</td>\n",
        "      <td> 5</td>\n",
        "    </tr>\n",
        "    <tr>\n",
        "      <th>24  </th>\n",
        "      <td> &lt;?xml version=\"1.0\" encoding=\"utf-16\"?&gt;\\n&lt;memb...</td>\n",
        "      <td>                  H\u00e6kkerup</td>\n",
        "      <td>              Nick</td>\n",
        "      <td> None</td>\n",
        "      <td>    67</td>\n",
        "      <td>                         Nick H\u00e6kkerup</td>\n",
        "      <td> 2014-09-22T13:24:57.773</td>\n",
        "      <td> None</td>\n",
        "      <td> None</td>\n",
        "      <td> None</td>\n",
        "      <td> 5</td>\n",
        "    </tr>\n",
        "    <tr>\n",
        "      <th>25  </th>\n",
        "      <td> &lt;?xml version=\"1.0\" encoding=\"utf-16\"?&gt;\\n&lt;memb...</td>\n",
        "      <td>                 Villumsen</td>\n",
        "      <td>           Nikolaj</td>\n",
        "      <td> None</td>\n",
        "      <td>    68</td>\n",
        "      <td>                     Nikolaj Villumsen</td>\n",
        "      <td> 2014-09-22T15:39:48.913</td>\n",
        "      <td> None</td>\n",
        "      <td> None</td>\n",
        "      <td> None</td>\n",
        "      <td> 5</td>\n",
        "    </tr>\n",
        "    <tr>\n",
        "      <th>26  </th>\n",
        "      <td> &lt;?xml version=\"1.0\" encoding=\"utf-16\"?&gt;\\n&lt;memb...</td>\n",
        "      <td>                   Skipper</td>\n",
        "      <td>          Pernille</td>\n",
        "      <td> None</td>\n",
        "      <td>    69</td>\n",
        "      <td>                      Pernille Skipper</td>\n",
        "      <td> 2014-09-22T15:40:18.477</td>\n",
        "      <td> None</td>\n",
        "      <td> None</td>\n",
        "      <td> None</td>\n",
        "      <td> 5</td>\n",
        "    </tr>\n",
        "    <tr>\n",
        "      <th>27  </th>\n",
        "      <td>                                                  </td>\n",
        "      <td>                 Henriksen</td>\n",
        "      <td>            Martin</td>\n",
        "      <td> None</td>\n",
        "      <td>    70</td>\n",
        "      <td>                      Martin Henriksen</td>\n",
        "      <td> 2014-10-01T15:04:15.137</td>\n",
        "      <td> None</td>\n",
        "      <td> None</td>\n",
        "      <td> None</td>\n",
        "      <td> 5</td>\n",
        "    </tr>\n",
        "    <tr>\n",
        "      <th>28  </th>\n",
        "      <td> &lt;?xml version=\"1.0\" encoding=\"utf-16\"?&gt;\\n&lt;memb...</td>\n",
        "      <td>                    Behnke</td>\n",
        "      <td>               Tom</td>\n",
        "      <td> None</td>\n",
        "      <td>    71</td>\n",
        "      <td>                            Tom Behnke</td>\n",
        "      <td>   2014-09-11T17:56:38.7</td>\n",
        "      <td> None</td>\n",
        "      <td> None</td>\n",
        "      <td> None</td>\n",
        "      <td> 5</td>\n",
        "    </tr>\n",
        "    <tr>\n",
        "      <th>29  </th>\n",
        "      <td> &lt;?xml version=\"1.0\" encoding=\"utf-16\"?&gt;\\n&lt;memb...</td>\n",
        "      <td>                  Ellemann</td>\n",
        "      <td>             Karen</td>\n",
        "      <td> None</td>\n",
        "      <td>    72</td>\n",
        "      <td>                        Karen Ellemann</td>\n",
        "      <td> 2014-09-22T13:15:13.883</td>\n",
        "      <td> None</td>\n",
        "      <td> None</td>\n",
        "      <td> None</td>\n",
        "      <td> 5</td>\n",
        "    </tr>\n",
        "    <tr>\n",
        "      <th>...</th>\n",
        "      <td>...</td>\n",
        "      <td>...</td>\n",
        "      <td>...</td>\n",
        "      <td>...</td>\n",
        "      <td>...</td>\n",
        "      <td>...</td>\n",
        "      <td>...</td>\n",
        "      <td>...</td>\n",
        "      <td>...</td>\n",
        "      <td>...</td>\n",
        "      <td>...</td>\n",
        "    </tr>\n",
        "    <tr>\n",
        "      <th>1916</th>\n",
        "      <td>                                                  </td>\n",
        "      <td>                    Person</td>\n",
        "      <td>      Fejloprettet</td>\n",
        "      <td> None</td>\n",
        "      <td> 13331</td>\n",
        "      <td>                   Fejloprettet Person</td>\n",
        "      <td>  2014-09-22T16:11:26.87</td>\n",
        "      <td> None</td>\n",
        "      <td> None</td>\n",
        "      <td> None</td>\n",
        "      <td> 5</td>\n",
        "    </tr>\n",
        "    <tr>\n",
        "      <th>1917</th>\n",
        "      <td>                                                  </td>\n",
        "      <td>                Fransgaard</td>\n",
        "      <td>      Lena Liltorp</td>\n",
        "      <td> None</td>\n",
        "      <td> 13383</td>\n",
        "      <td>               Lena Liltorp Fransgaard</td>\n",
        "      <td>  2014-09-22T16:13:50.56</td>\n",
        "      <td> None</td>\n",
        "      <td> None</td>\n",
        "      <td> None</td>\n",
        "      <td> 5</td>\n",
        "    </tr>\n",
        "    <tr>\n",
        "      <th>1918</th>\n",
        "      <td>                                                  </td>\n",
        "      <td>        Palmelund S\u00f8rensen</td>\n",
        "      <td>          Pernille</td>\n",
        "      <td> None</td>\n",
        "      <td> 13425</td>\n",
        "      <td>           Pernille Palmelund S\u00f8rensen</td>\n",
        "      <td>  2014-09-22T16:17:46.45</td>\n",
        "      <td> None</td>\n",
        "      <td> None</td>\n",
        "      <td> None</td>\n",
        "      <td> 5</td>\n",
        "    </tr>\n",
        "    <tr>\n",
        "      <th>1919</th>\n",
        "      <td>                                                  </td>\n",
        "      <td>           N\u00f8rrind Bistrup</td>\n",
        "      <td>            Magnus</td>\n",
        "      <td> None</td>\n",
        "      <td> 13428</td>\n",
        "      <td>                Magnus N\u00f8rrind Bistrup</td>\n",
        "      <td> 2014-09-22T16:17:54.387</td>\n",
        "      <td> None</td>\n",
        "      <td> None</td>\n",
        "      <td> None</td>\n",
        "      <td> 5</td>\n",
        "    </tr>\n",
        "    <tr>\n",
        "      <th>1920</th>\n",
        "      <td>                                                  </td>\n",
        "      <td>           Sandbjerg Frich</td>\n",
        "      <td>             Bodil</td>\n",
        "      <td> None</td>\n",
        "      <td> 13437</td>\n",
        "      <td>                 Bodil Sandbjerg Frich</td>\n",
        "      <td>  2014-09-22T16:19:03.06</td>\n",
        "      <td> None</td>\n",
        "      <td> None</td>\n",
        "      <td> None</td>\n",
        "      <td> 5</td>\n",
        "    </tr>\n",
        "    <tr>\n",
        "      <th>1921</th>\n",
        "      <td>                                                  </td>\n",
        "      <td>           Lee Christensen</td>\n",
        "      <td>           Camilla</td>\n",
        "      <td> None</td>\n",
        "      <td> 13438</td>\n",
        "      <td>               Camilla Lee Christensen</td>\n",
        "      <td> 2014-09-22T16:19:05.277</td>\n",
        "      <td> None</td>\n",
        "      <td> None</td>\n",
        "      <td> None</td>\n",
        "      <td> 5</td>\n",
        "    </tr>\n",
        "    <tr>\n",
        "      <th>1922</th>\n",
        "      <td>                                                  </td>\n",
        "      <td>                    Jensen</td>\n",
        "      <td>            Thomas</td>\n",
        "      <td> None</td>\n",
        "      <td> 13439</td>\n",
        "      <td>                         Thomas Jensen</td>\n",
        "      <td> 2014-09-22T16:19:08.467</td>\n",
        "      <td> None</td>\n",
        "      <td> None</td>\n",
        "      <td> None</td>\n",
        "      <td> 5</td>\n",
        "    </tr>\n",
        "    <tr>\n",
        "      <th>1923</th>\n",
        "      <td>                                                  </td>\n",
        "      <td>          Midtgaard Lassen</td>\n",
        "      <td>     Ida Christine</td>\n",
        "      <td> None</td>\n",
        "      <td> 13447</td>\n",
        "      <td>        Ida Christine Midtgaard Lassen</td>\n",
        "      <td> 2014-09-22T16:19:49.153</td>\n",
        "      <td> None</td>\n",
        "      <td> None</td>\n",
        "      <td> None</td>\n",
        "      <td> 5</td>\n",
        "    </tr>\n",
        "    <tr>\n",
        "      <th>1924</th>\n",
        "      <td>                                                  </td>\n",
        "      <td>             Bang Jakobsen</td>\n",
        "      <td>             Bj\u00f8rn</td>\n",
        "      <td> None</td>\n",
        "      <td> 13451</td>\n",
        "      <td>                   Bj\u00f8rn Bang Jakobsen</td>\n",
        "      <td> 2014-09-22T16:21:40.373</td>\n",
        "      <td> None</td>\n",
        "      <td> None</td>\n",
        "      <td> None</td>\n",
        "      <td> 5</td>\n",
        "    </tr>\n",
        "    <tr>\n",
        "      <th>1925</th>\n",
        "      <td>                                                  </td>\n",
        "      <td>               Ward Jensen</td>\n",
        "      <td>         Maj Lauge</td>\n",
        "      <td> None</td>\n",
        "      <td> 13516</td>\n",
        "      <td>                 Maj Lauge Ward Jensen</td>\n",
        "      <td> 2014-09-22T16:33:25.517</td>\n",
        "      <td> None</td>\n",
        "      <td> None</td>\n",
        "      <td> None</td>\n",
        "      <td> 5</td>\n",
        "    </tr>\n",
        "    <tr>\n",
        "      <th>1926</th>\n",
        "      <td>                                                  </td>\n",
        "      <td>                    Dr\u00e6bye</td>\n",
        "      <td>        Lene Birte</td>\n",
        "      <td> None</td>\n",
        "      <td> 13521</td>\n",
        "      <td>                     Lene Birte Dr\u00e6bye</td>\n",
        "      <td> 2014-09-22T16:33:43.983</td>\n",
        "      <td> None</td>\n",
        "      <td> None</td>\n",
        "      <td> None</td>\n",
        "      <td> 5</td>\n",
        "    </tr>\n",
        "    <tr>\n",
        "      <th>1927</th>\n",
        "      <td>                                                  </td>\n",
        "      <td>           Fahn\u00f8e Lyshjelm</td>\n",
        "      <td>            Dorthe</td>\n",
        "      <td> None</td>\n",
        "      <td> 13570</td>\n",
        "      <td>                Dorthe Fahn\u00f8e Lyshjelm</td>\n",
        "      <td> 2014-09-22T16:36:27.267</td>\n",
        "      <td> None</td>\n",
        "      <td> None</td>\n",
        "      <td> None</td>\n",
        "      <td> 5</td>\n",
        "    </tr>\n",
        "    <tr>\n",
        "      <th>1928</th>\n",
        "      <td>                                                  </td>\n",
        "      <td>                  N\u00f8dgaard</td>\n",
        "      <td>             Hanne</td>\n",
        "      <td> None</td>\n",
        "      <td> 13576</td>\n",
        "      <td>                        Hanne N\u00f8dgaard</td>\n",
        "      <td> 2014-09-22T16:36:53.937</td>\n",
        "      <td> None</td>\n",
        "      <td> None</td>\n",
        "      <td> None</td>\n",
        "      <td> 5</td>\n",
        "    </tr>\n",
        "    <tr>\n",
        "      <th>1929</th>\n",
        "      <td>                                                  </td>\n",
        "      <td>                   Schramm</td>\n",
        "      <td>            Thomas</td>\n",
        "      <td> None</td>\n",
        "      <td> 13588</td>\n",
        "      <td>                        Thomas Schramm</td>\n",
        "      <td>  2014-09-22T16:37:48.42</td>\n",
        "      <td> None</td>\n",
        "      <td> None</td>\n",
        "      <td> None</td>\n",
        "      <td> 5</td>\n",
        "    </tr>\n",
        "    <tr>\n",
        "      <th>1930</th>\n",
        "      <td>                                                  </td>\n",
        "      <td>                      Pors</td>\n",
        "      <td>             Peder</td>\n",
        "      <td> None</td>\n",
        "      <td> 13594</td>\n",
        "      <td>                            Peder Pors</td>\n",
        "      <td> 2014-09-22T16:38:03.047</td>\n",
        "      <td> None</td>\n",
        "      <td> None</td>\n",
        "      <td> None</td>\n",
        "      <td> 5</td>\n",
        "    </tr>\n",
        "    <tr>\n",
        "      <th>1931</th>\n",
        "      <td>                                                  </td>\n",
        "      <td>               Ulff M\u00f8ller</td>\n",
        "      <td>             Maria</td>\n",
        "      <td> None</td>\n",
        "      <td> 13629</td>\n",
        "      <td>                     Maria Ulff M\u00f8ller</td>\n",
        "      <td> 2014-10-01T10:53:20.483</td>\n",
        "      <td> None</td>\n",
        "      <td> None</td>\n",
        "      <td> None</td>\n",
        "      <td> 5</td>\n",
        "    </tr>\n",
        "    <tr>\n",
        "      <th>1932</th>\n",
        "      <td>                                                  </td>\n",
        "      <td>     Mallet (udpeget af V)</td>\n",
        "      <td>           Nicolai</td>\n",
        "      <td> None</td>\n",
        "      <td> 13654</td>\n",
        "      <td>         Nicolai Mallet (udpeget af V)</td>\n",
        "      <td> 2014-09-25T14:22:30.177</td>\n",
        "      <td> None</td>\n",
        "      <td> None</td>\n",
        "      <td> None</td>\n",
        "      <td> 5</td>\n",
        "    </tr>\n",
        "    <tr>\n",
        "      <th>1933</th>\n",
        "      <td>                                                  </td>\n",
        "      <td>  Gerhauge (udpeget af SF)</td>\n",
        "      <td>         Charlotte</td>\n",
        "      <td> None</td>\n",
        "      <td> 13655</td>\n",
        "      <td>    Charlotte Gerhauge (udpeget af SF)</td>\n",
        "      <td> 2014-09-25T14:22:30.177</td>\n",
        "      <td> None</td>\n",
        "      <td> None</td>\n",
        "      <td> None</td>\n",
        "      <td> 5</td>\n",
        "    </tr>\n",
        "    <tr>\n",
        "      <th>1934</th>\n",
        "      <td>                                                  </td>\n",
        "      <td>    Nielsen (udpget af LA)</td>\n",
        "      <td>          Jonathan</td>\n",
        "      <td> None</td>\n",
        "      <td> 13656</td>\n",
        "      <td>       Jonathan Nielsen (udpget af LA)</td>\n",
        "      <td> 2014-09-25T14:22:30.177</td>\n",
        "      <td> None</td>\n",
        "      <td> None</td>\n",
        "      <td> None</td>\n",
        "      <td> 5</td>\n",
        "    </tr>\n",
        "    <tr>\n",
        "      <th>1935</th>\n",
        "      <td>                                                  </td>\n",
        "      <td>     Poulsen (udpget af V)</td>\n",
        "      <td>             Niels</td>\n",
        "      <td> None</td>\n",
        "      <td> 13657</td>\n",
        "      <td>           Niels Poulsen (udpget af V)</td>\n",
        "      <td> 2014-09-25T14:22:30.177</td>\n",
        "      <td> None</td>\n",
        "      <td> None</td>\n",
        "      <td> None</td>\n",
        "      <td> 5</td>\n",
        "    </tr>\n",
        "    <tr>\n",
        "      <th>1936</th>\n",
        "      <td>                                                  </td>\n",
        "      <td>   Thomsen (udpeget af SF)</td>\n",
        "      <td>       Leif Donb\u00e6k</td>\n",
        "      <td> None</td>\n",
        "      <td> 13658</td>\n",
        "      <td>   Leif Donb\u00e6k Thomsen (udpeget af SF)</td>\n",
        "      <td> 2014-09-25T14:22:30.177</td>\n",
        "      <td> None</td>\n",
        "      <td> None</td>\n",
        "      <td> None</td>\n",
        "      <td> 5</td>\n",
        "    </tr>\n",
        "    <tr>\n",
        "      <th>1937</th>\n",
        "      <td>                                                  </td>\n",
        "      <td>   Nielsen (udpeget af DF)</td>\n",
        "      <td>     Poul Lindholm</td>\n",
        "      <td> None</td>\n",
        "      <td> 13659</td>\n",
        "      <td> Poul Lindholm Nielsen (udpeget af DF)</td>\n",
        "      <td> 2014-09-25T14:22:30.177</td>\n",
        "      <td> None</td>\n",
        "      <td> None</td>\n",
        "      <td> None</td>\n",
        "      <td> 5</td>\n",
        "    </tr>\n",
        "    <tr>\n",
        "      <th>1938</th>\n",
        "      <td>                                                  </td>\n",
        "      <td>  Jacguerot (udpeget af V)</td>\n",
        "      <td>        Kate Bryld</td>\n",
        "      <td> None</td>\n",
        "      <td> 13660</td>\n",
        "      <td>   Kate Bryld Jacguerot (udpeget af V)</td>\n",
        "      <td> 2014-09-25T14:22:30.193</td>\n",
        "      <td> None</td>\n",
        "      <td> None</td>\n",
        "      <td> None</td>\n",
        "      <td> 5</td>\n",
        "    </tr>\n",
        "    <tr>\n",
        "      <th>1939</th>\n",
        "      <td>                                                  </td>\n",
        "      <td>  Laugesen (udpeget af SF)</td>\n",
        "      <td>            Jesper</td>\n",
        "      <td> None</td>\n",
        "      <td> 13661</td>\n",
        "      <td>       Jesper Laugesen (udpeget af SF)</td>\n",
        "      <td> 2014-09-25T14:22:30.193</td>\n",
        "      <td> None</td>\n",
        "      <td> None</td>\n",
        "      <td> None</td>\n",
        "      <td> 5</td>\n",
        "    </tr>\n",
        "    <tr>\n",
        "      <th>1940</th>\n",
        "      <td>                                                  </td>\n",
        "      <td>   Touborg (udpeget af SF)</td>\n",
        "      <td>             Mette</td>\n",
        "      <td> None</td>\n",
        "      <td> 13662</td>\n",
        "      <td>         Mette Touborg (udpeget af SF)</td>\n",
        "      <td> 2014-09-25T14:22:30.193</td>\n",
        "      <td> None</td>\n",
        "      <td> None</td>\n",
        "      <td> None</td>\n",
        "      <td> 5</td>\n",
        "    </tr>\n",
        "    <tr>\n",
        "      <th>1941</th>\n",
        "      <td>                                                  </td>\n",
        "      <td>    Hansen (udpeget af LA)</td>\n",
        "      <td>       Helle Abild</td>\n",
        "      <td> None</td>\n",
        "      <td> 13663</td>\n",
        "      <td>    Helle Abild Hansen (udpeget af LA)</td>\n",
        "      <td> 2014-09-25T14:22:30.193</td>\n",
        "      <td> None</td>\n",
        "      <td> None</td>\n",
        "      <td> None</td>\n",
        "      <td> 5</td>\n",
        "    </tr>\n",
        "    <tr>\n",
        "      <th>1942</th>\n",
        "      <td>                                                  </td>\n",
        "      <td>  Terkilsen (udpeget af V)</td>\n",
        "      <td>           Kirsten</td>\n",
        "      <td> None</td>\n",
        "      <td> 13664</td>\n",
        "      <td>      Kirsten Terkilsen (udpeget af V)</td>\n",
        "      <td> 2014-09-25T14:22:30.193</td>\n",
        "      <td> None</td>\n",
        "      <td> None</td>\n",
        "      <td> None</td>\n",
        "      <td> 5</td>\n",
        "    </tr>\n",
        "    <tr>\n",
        "      <th>1943</th>\n",
        "      <td>                                                  </td>\n",
        "      <td> Mikkelsen (udpeget af KF)</td>\n",
        "      <td>         Arne Bang</td>\n",
        "      <td> None</td>\n",
        "      <td> 13665</td>\n",
        "      <td>   Arne Bang Mikkelsen (udpeget af KF)</td>\n",
        "      <td> 2014-09-25T14:22:30.193</td>\n",
        "      <td> None</td>\n",
        "      <td> None</td>\n",
        "      <td> None</td>\n",
        "      <td> 5</td>\n",
        "    </tr>\n",
        "    <tr>\n",
        "      <th>1944</th>\n",
        "      <td>                                                  </td>\n",
        "      <td>                      Bang</td>\n",
        "      <td>              Adam</td>\n",
        "      <td> None</td>\n",
        "      <td> 13694</td>\n",
        "      <td>                             Adam Bang</td>\n",
        "      <td> 2014-10-01T14:19:09.993</td>\n",
        "      <td> None</td>\n",
        "      <td> None</td>\n",
        "      <td> None</td>\n",
        "      <td> 5</td>\n",
        "    </tr>\n",
        "    <tr>\n",
        "      <th>1945</th>\n",
        "      <td>                                                  </td>\n",
        "      <td>         Prien Christensen</td>\n",
        "      <td>          Josefine</td>\n",
        "      <td> None</td>\n",
        "      <td> 13695</td>\n",
        "      <td>            Josefine Prien Christensen</td>\n",
        "      <td> 2014-10-01T14:20:01.557</td>\n",
        "      <td> None</td>\n",
        "      <td> None</td>\n",
        "      <td> None</td>\n",
        "      <td> 5</td>\n",
        "    </tr>\n",
        "  </tbody>\n",
        "</table>\n",
        "<p>1946 rows \u00d7 11 columns</p>\n",
        "</div>"
       ],
       "metadata": {},
       "output_type": "pyout",
       "prompt_number": 7,
       "text": [
        "                                               biografi  \\\n",
        "0     <?xml version=\"1.0\" encoding=\"utf-16\"?>\\n<memb...   \n",
        "1     <?xml version=\"1.0\" encoding=\"utf-16\"?>\\n<memb...   \n",
        "2     <?xml version=\"1.0\" encoding=\"utf-16\"?>\\n<memb...   \n",
        "3     <?xml version=\"1.0\" encoding=\"utf-16\"?>\\n<memb...   \n",
        "4     <?xml version=\"1.0\" encoding=\"utf-16\"?>\\n<memb...   \n",
        "5     <?xml version=\"1.0\" encoding=\"utf-16\"?>\\n<memb...   \n",
        "6     <?xml version=\"1.0\" encoding=\"utf-16\"?>\\n<memb...   \n",
        "7     <?xml version=\"1.0\" encoding=\"utf-16\"?>\\n<memb...   \n",
        "8     <?xml version=\"1.0\" encoding=\"utf-16\"?>\\n<memb...   \n",
        "9     <?xml version=\"1.0\" encoding=\"utf-16\"?>\\n<memb...   \n",
        "10    <?xml version=\"1.0\" encoding=\"utf-16\"?>\\n<memb...   \n",
        "11    <?xml version=\"1.0\" encoding=\"utf-16\"?>\\n<memb...   \n",
        "12    <?xml version=\"1.0\" encoding=\"utf-16\"?>\\n<memb...   \n",
        "13    <?xml version=\"1.0\" encoding=\"utf-16\"?>\\n<memb...   \n",
        "14    <?xml version=\"1.0\" encoding=\"utf-16\"?>\\n<memb...   \n",
        "15    <?xml version=\"1.0\" encoding=\"utf-16\"?>\\n<memb...   \n",
        "16    <?xml version=\"1.0\" encoding=\"utf-16\"?>\\n<memb...   \n",
        "17    <?xml version=\"1.0\" encoding=\"utf-16\"?>\\n<memb...   \n",
        "18    <?xml version=\"1.0\" encoding=\"utf-16\"?>\\n<memb...   \n",
        "19    <?xml version=\"1.0\" encoding=\"utf-16\"?>\\n<memb...   \n",
        "20    <?xml version=\"1.0\" encoding=\"utf-16\"?>\\n<memb...   \n",
        "21    <?xml version=\"1.0\" encoding=\"utf-16\"?>\\n<memb...   \n",
        "22    <?xml version=\"1.0\" encoding=\"utf-16\"?>\\n<memb...   \n",
        "23    <?xml version=\"1.0\" encoding=\"utf-16\"?>\\n<memb...   \n",
        "24    <?xml version=\"1.0\" encoding=\"utf-16\"?>\\n<memb...   \n",
        "25    <?xml version=\"1.0\" encoding=\"utf-16\"?>\\n<memb...   \n",
        "26    <?xml version=\"1.0\" encoding=\"utf-16\"?>\\n<memb...   \n",
        "27                                                        \n",
        "28    <?xml version=\"1.0\" encoding=\"utf-16\"?>\\n<memb...   \n",
        "29    <?xml version=\"1.0\" encoding=\"utf-16\"?>\\n<memb...   \n",
        "...                                                 ...   \n",
        "1916                                                      \n",
        "1917                                                      \n",
        "1918                                                      \n",
        "1919                                                      \n",
        "1920                                                      \n",
        "1921                                                      \n",
        "1922                                                      \n",
        "1923                                                      \n",
        "1924                                                      \n",
        "1925                                                      \n",
        "1926                                                      \n",
        "1927                                                      \n",
        "1928                                                      \n",
        "1929                                                      \n",
        "1930                                                      \n",
        "1931                                                      \n",
        "1932                                                      \n",
        "1933                                                      \n",
        "1934                                                      \n",
        "1935                                                      \n",
        "1936                                                      \n",
        "1937                                                      \n",
        "1938                                                      \n",
        "1939                                                      \n",
        "1940                                                      \n",
        "1941                                                      \n",
        "1942                                                      \n",
        "1943                                                      \n",
        "1944                                                      \n",
        "1945                                                      \n",
        "\n",
        "                      efternavn            fornavn gruppenavnkort     id  \\\n",
        "0                          Aaen              Frank           None      5   \n",
        "1                        Wammen            Nicolai           None     12   \n",
        "2                        Olsvig               Sara           None     13   \n",
        "3                      Antorini          Christine           None     17   \n",
        "4                    Ahrendtsen               Alex           None     18   \n",
        "5                       Corydon             Bjarne           None     23   \n",
        "6                     Lauritzen            Karsten           None     24   \n",
        "7                        Larsen        Henrik Sass           None     28   \n",
        "8                       Nielsen          Holger K.           None     33   \n",
        "9                      Espersen              S\u00f8ren           None     34   \n",
        "10                         Krag             Astrid           None     38   \n",
        "11                         Juhl          Christian           None     39   \n",
        "12                         Dyhr          Pia Olsen           None     43   \n",
        "13                    Hyllested            Henning           None     44   \n",
        "14                     H\u00e6kkerup              Karen           None     47   \n",
        "15                      Skaarup              Peter           None     48   \n",
        "16                     Bonnesen             Erling           None     49   \n",
        "17                        Blixt           Liselott           None     50   \n",
        "18                       Jelved           Marianne           None     55   \n",
        "19                     N\u00f8dgaard              Karin           None     56   \n",
        "20                Engel-Schmidt              Jakob           None     57   \n",
        "21                     Petersen      Rasmus Helveg           None     59   \n",
        "22                   Vilhelmsen            Annette           None     62   \n",
        "23                       Larsen  Flemming Damgaard           None     64   \n",
        "24                     H\u00e6kkerup               Nick           None     67   \n",
        "25                    Villumsen            Nikolaj           None     68   \n",
        "26                      Skipper           Pernille           None     69   \n",
        "27                    Henriksen             Martin           None     70   \n",
        "28                       Behnke                Tom           None     71   \n",
        "29                     Ellemann              Karen           None     72   \n",
        "...                         ...                ...            ...    ...   \n",
        "1916                     Person       Fejloprettet           None  13331   \n",
        "1917                 Fransgaard       Lena Liltorp           None  13383   \n",
        "1918         Palmelund S\u00f8rensen           Pernille           None  13425   \n",
        "1919            N\u00f8rrind Bistrup             Magnus           None  13428   \n",
        "1920            Sandbjerg Frich              Bodil           None  13437   \n",
        "1921            Lee Christensen            Camilla           None  13438   \n",
        "1922                     Jensen             Thomas           None  13439   \n",
        "1923           Midtgaard Lassen      Ida Christine           None  13447   \n",
        "1924              Bang Jakobsen              Bj\u00f8rn           None  13451   \n",
        "1925                Ward Jensen          Maj Lauge           None  13516   \n",
        "1926                     Dr\u00e6bye         Lene Birte           None  13521   \n",
        "1927            Fahn\u00f8e Lyshjelm             Dorthe           None  13570   \n",
        "1928                   N\u00f8dgaard              Hanne           None  13576   \n",
        "1929                    Schramm             Thomas           None  13588   \n",
        "1930                       Pors              Peder           None  13594   \n",
        "1931                Ulff M\u00f8ller              Maria           None  13629   \n",
        "1932      Mallet (udpeget af V)            Nicolai           None  13654   \n",
        "1933   Gerhauge (udpeget af SF)          Charlotte           None  13655   \n",
        "1934     Nielsen (udpget af LA)           Jonathan           None  13656   \n",
        "1935      Poulsen (udpget af V)              Niels           None  13657   \n",
        "1936    Thomsen (udpeget af SF)        Leif Donb\u00e6k           None  13658   \n",
        "1937    Nielsen (udpeget af DF)      Poul Lindholm           None  13659   \n",
        "1938   Jacguerot (udpeget af V)         Kate Bryld           None  13660   \n",
        "1939   Laugesen (udpeget af SF)             Jesper           None  13661   \n",
        "1940    Touborg (udpeget af SF)              Mette           None  13662   \n",
        "1941     Hansen (udpeget af LA)        Helle Abild           None  13663   \n",
        "1942   Terkilsen (udpeget af V)            Kirsten           None  13664   \n",
        "1943  Mikkelsen (udpeget af KF)          Arne Bang           None  13665   \n",
        "1944                       Bang               Adam           None  13694   \n",
        "1945          Prien Christensen           Josefine           None  13695   \n",
        "\n",
        "                                       navn          opdateringsdato  \\\n",
        "0                                Frank Aaen   2014-09-11T17:59:38.67   \n",
        "1                            Nicolai Wammen  2014-09-11T16:37:20.137   \n",
        "2                               Sara Olsvig   2014-09-12T11:13:15.26   \n",
        "3                        Christine Antorini   2014-09-11T17:56:30.53   \n",
        "4                           Alex Ahrendtsen  2014-09-22T15:37:28.447   \n",
        "5                            Bjarne Corydon  2014-09-22T15:37:54.163   \n",
        "6                         Karsten Lauritzen    2014-09-22T13:13:58.1   \n",
        "7                        Henrik Sass Larsen   2014-09-11T16:53:42.96   \n",
        "8                         Holger K. Nielsen  2014-09-11T16:17:15.863   \n",
        "9                            S\u00f8ren Espersen   2014-09-11T18:02:18.31   \n",
        "10                              Astrid Krag  2014-09-22T13:50:53.057   \n",
        "11                           Christian Juhl   2014-09-22T15:40:25.82   \n",
        "12                           Pia Olsen Dyhr  2014-09-22T12:43:41.067   \n",
        "13                        Henning Hyllested   2014-09-22T15:39:24.04   \n",
        "14                           Karen H\u00e6kkerup  2014-09-11T18:10:33.687   \n",
        "15                            Peter Skaarup  2014-09-11T17:01:38.727   \n",
        "16                          Erling Bonnesen   2014-09-11T17:14:35.18   \n",
        "17                           Liselott Blixt  2014-09-22T13:21:26.587   \n",
        "18                          Marianne Jelved  2014-09-11T16:33:17.237   \n",
        "19                           Karin N\u00f8dgaard  2014-09-11T18:07:35.937   \n",
        "20                      Jakob Engel-Schmidt  2014-09-22T16:19:55.187   \n",
        "21                   Rasmus Helveg Petersen  2014-09-22T15:35:54.617   \n",
        "22                       Annette Vilhelmsen  2014-09-22T14:09:24.483   \n",
        "23                 Flemming Damgaard Larsen  2014-09-11T16:55:21.087   \n",
        "24                            Nick H\u00e6kkerup  2014-09-22T13:24:57.773   \n",
        "25                        Nikolaj Villumsen  2014-09-22T15:39:48.913   \n",
        "26                         Pernille Skipper  2014-09-22T15:40:18.477   \n",
        "27                         Martin Henriksen  2014-10-01T15:04:15.137   \n",
        "28                               Tom Behnke    2014-09-11T17:56:38.7   \n",
        "29                           Karen Ellemann  2014-09-22T13:15:13.883   \n",
        "...                                     ...                      ...   \n",
        "1916                    Fejloprettet Person   2014-09-22T16:11:26.87   \n",
        "1917                Lena Liltorp Fransgaard   2014-09-22T16:13:50.56   \n",
        "1918            Pernille Palmelund S\u00f8rensen   2014-09-22T16:17:46.45   \n",
        "1919                 Magnus N\u00f8rrind Bistrup  2014-09-22T16:17:54.387   \n",
        "1920                  Bodil Sandbjerg Frich   2014-09-22T16:19:03.06   \n",
        "1921                Camilla Lee Christensen  2014-09-22T16:19:05.277   \n",
        "1922                          Thomas Jensen  2014-09-22T16:19:08.467   \n",
        "1923         Ida Christine Midtgaard Lassen  2014-09-22T16:19:49.153   \n",
        "1924                    Bj\u00f8rn Bang Jakobsen  2014-09-22T16:21:40.373   \n",
        "1925                  Maj Lauge Ward Jensen  2014-09-22T16:33:25.517   \n",
        "1926                      Lene Birte Dr\u00e6bye  2014-09-22T16:33:43.983   \n",
        "1927                 Dorthe Fahn\u00f8e Lyshjelm  2014-09-22T16:36:27.267   \n",
        "1928                         Hanne N\u00f8dgaard  2014-09-22T16:36:53.937   \n",
        "1929                         Thomas Schramm   2014-09-22T16:37:48.42   \n",
        "1930                             Peder Pors  2014-09-22T16:38:03.047   \n",
        "1931                      Maria Ulff M\u00f8ller  2014-10-01T10:53:20.483   \n",
        "1932          Nicolai Mallet (udpeget af V)  2014-09-25T14:22:30.177   \n",
        "1933     Charlotte Gerhauge (udpeget af SF)  2014-09-25T14:22:30.177   \n",
        "1934        Jonathan Nielsen (udpget af LA)  2014-09-25T14:22:30.177   \n",
        "1935            Niels Poulsen (udpget af V)  2014-09-25T14:22:30.177   \n",
        "1936    Leif Donb\u00e6k Thomsen (udpeget af SF)  2014-09-25T14:22:30.177   \n",
        "1937  Poul Lindholm Nielsen (udpeget af DF)  2014-09-25T14:22:30.177   \n",
        "1938    Kate Bryld Jacguerot (udpeget af V)  2014-09-25T14:22:30.193   \n",
        "1939        Jesper Laugesen (udpeget af SF)  2014-09-25T14:22:30.193   \n",
        "1940          Mette Touborg (udpeget af SF)  2014-09-25T14:22:30.193   \n",
        "1941     Helle Abild Hansen (udpeget af LA)  2014-09-25T14:22:30.193   \n",
        "1942       Kirsten Terkilsen (udpeget af V)  2014-09-25T14:22:30.193   \n",
        "1943    Arne Bang Mikkelsen (udpeget af KF)  2014-09-25T14:22:30.193   \n",
        "1944                              Adam Bang  2014-10-01T14:19:09.993   \n",
        "1945             Josefine Prien Christensen  2014-10-01T14:20:01.557   \n",
        "\n",
        "     periodeid slutdato startdato  typeid  \n",
        "0         None     None      None       5  \n",
        "1         None     None      None       5  \n",
        "2         None     None      None       5  \n",
        "3         None     None      None       5  \n",
        "4         None     None      None       5  \n",
        "5         None     None      None       5  \n",
        "6         None     None      None       5  \n",
        "7         None     None      None       5  \n",
        "8         None     None      None       5  \n",
        "9         None     None      None       5  \n",
        "10        None     None      None       5  \n",
        "11        None     None      None       5  \n",
        "12        None     None      None       5  \n",
        "13        None     None      None       5  \n",
        "14        None     None      None       5  \n",
        "15        None     None      None       5  \n",
        "16        None     None      None       5  \n",
        "17        None     None      None       5  \n",
        "18        None     None      None       5  \n",
        "19        None     None      None       5  \n",
        "20        None     None      None       5  \n",
        "21        None     None      None       5  \n",
        "22        None     None      None       5  \n",
        "23        None     None      None       5  \n",
        "24        None     None      None       5  \n",
        "25        None     None      None       5  \n",
        "26        None     None      None       5  \n",
        "27        None     None      None       5  \n",
        "28        None     None      None       5  \n",
        "29        None     None      None       5  \n",
        "...        ...      ...       ...     ...  \n",
        "1916      None     None      None       5  \n",
        "1917      None     None      None       5  \n",
        "1918      None     None      None       5  \n",
        "1919      None     None      None       5  \n",
        "1920      None     None      None       5  \n",
        "1921      None     None      None       5  \n",
        "1922      None     None      None       5  \n",
        "1923      None     None      None       5  \n",
        "1924      None     None      None       5  \n",
        "1925      None     None      None       5  \n",
        "1926      None     None      None       5  \n",
        "1927      None     None      None       5  \n",
        "1928      None     None      None       5  \n",
        "1929      None     None      None       5  \n",
        "1930      None     None      None       5  \n",
        "1931      None     None      None       5  \n",
        "1932      None     None      None       5  \n",
        "1933      None     None      None       5  \n",
        "1934      None     None      None       5  \n",
        "1935      None     None      None       5  \n",
        "1936      None     None      None       5  \n",
        "1937      None     None      None       5  \n",
        "1938      None     None      None       5  \n",
        "1939      None     None      None       5  \n",
        "1940      None     None      None       5  \n",
        "1941      None     None      None       5  \n",
        "1942      None     None      None       5  \n",
        "1943      None     None      None       5  \n",
        "1944      None     None      None       5  \n",
        "1945      None     None      None       5  \n",
        "\n",
        "[1946 rows x 11 columns]"
       ]
      }
     ],
     "prompt_number": 7
    },
    {
     "cell_type": "code",
     "collapsed": false,
     "input": [
      "url = 'http://oda.ft.dk/api/Akt%C3%B8rAkt%C3%B8rRolle?$inlinecount=allpages'\n",
      "rolle = pd.DataFrame(requests.get(url).json()['value'])"
     ],
     "language": "python",
     "metadata": {},
     "outputs": [],
     "prompt_number": 8
    },
    {
     "cell_type": "code",
     "collapsed": false,
     "input": [
      "rolle"
     ],
     "language": "python",
     "metadata": {},
     "outputs": [
      {
       "html": [
        "<div style=\"max-height:1000px;max-width:1500px;overflow:auto;\">\n",
        "<table border=\"1\" class=\"dataframe\">\n",
        "  <thead>\n",
        "    <tr style=\"text-align: right;\">\n",
        "      <th></th>\n",
        "      <th>id</th>\n",
        "      <th>opdateringsdato</th>\n",
        "      <th>rolle</th>\n",
        "    </tr>\n",
        "  </thead>\n",
        "  <tbody>\n",
        "    <tr>\n",
        "      <th>0 </th>\n",
        "      <td>  1</td>\n",
        "      <td> 2014-08-06T14:43:17.187</td>\n",
        "      <td>       1. n\u00e6stformand</td>\n",
        "    </tr>\n",
        "    <tr>\n",
        "      <th>1 </th>\n",
        "      <td>  2</td>\n",
        "      <td> 2014-08-06T14:43:17.187</td>\n",
        "      <td>     udvalgsassistent</td>\n",
        "    </tr>\n",
        "    <tr>\n",
        "      <th>2 </th>\n",
        "      <td>  3</td>\n",
        "      <td> 2014-08-06T14:43:17.187</td>\n",
        "      <td>   Tidligere minister</td>\n",
        "    </tr>\n",
        "    <tr>\n",
        "      <th>3 </th>\n",
        "      <td>  4</td>\n",
        "      <td> 2014-08-06T14:43:17.187</td>\n",
        "      <td>     udvalgssekret\u00e6r2</td>\n",
        "    </tr>\n",
        "    <tr>\n",
        "      <th>4 </th>\n",
        "      <td>  5</td>\n",
        "      <td> 2014-08-06T14:43:17.187</td>\n",
        "      <td>       3. n\u00e6stformand</td>\n",
        "    </tr>\n",
        "    <tr>\n",
        "      <th>5 </th>\n",
        "      <td>  6</td>\n",
        "      <td>  2014-10-01T09:46:58.33</td>\n",
        "      <td>   orlov med vederlag</td>\n",
        "    </tr>\n",
        "    <tr>\n",
        "      <th>6 </th>\n",
        "      <td>  7</td>\n",
        "      <td> 2014-08-06T14:43:17.187</td>\n",
        "      <td> folketingets formand</td>\n",
        "    </tr>\n",
        "    <tr>\n",
        "      <th>7 </th>\n",
        "      <td>  8</td>\n",
        "      <td> 2014-08-06T14:43:17.187</td>\n",
        "      <td>             Minister</td>\n",
        "    </tr>\n",
        "    <tr>\n",
        "      <th>8 </th>\n",
        "      <td>  9</td>\n",
        "      <td> 2014-08-06T14:43:17.187</td>\n",
        "      <td>       2. n\u00e6stformand</td>\n",
        "    </tr>\n",
        "    <tr>\n",
        "      <th>9 </th>\n",
        "      <td> 10</td>\n",
        "      <td>  2014-09-12T10:35:36.83</td>\n",
        "      <td>        stedfortr\u00e6der</td>\n",
        "    </tr>\n",
        "    <tr>\n",
        "      <th>10</th>\n",
        "      <td> 11</td>\n",
        "      <td> 2014-08-06T14:43:17.187</td>\n",
        "      <td>       4. n\u00e6stformand</td>\n",
        "    </tr>\n",
        "    <tr>\n",
        "      <th>11</th>\n",
        "      <td> 12</td>\n",
        "      <td>  2014-10-01T09:46:58.33</td>\n",
        "      <td>  orlov uden vederlag</td>\n",
        "    </tr>\n",
        "    <tr>\n",
        "      <th>12</th>\n",
        "      <td> 13</td>\n",
        "      <td>  2014-09-11T09:54:11.38</td>\n",
        "      <td>      udvalgssekret\u00e6r</td>\n",
        "    </tr>\n",
        "    <tr>\n",
        "      <th>13</th>\n",
        "      <td> 14</td>\n",
        "      <td>   2014-09-11T17:56:38.7</td>\n",
        "      <td>          n\u00e6stformand</td>\n",
        "    </tr>\n",
        "    <tr>\n",
        "      <th>14</th>\n",
        "      <td> 15</td>\n",
        "      <td>  2014-09-09T13:59:51.59</td>\n",
        "      <td>               medlem</td>\n",
        "    </tr>\n",
        "    <tr>\n",
        "      <th>15</th>\n",
        "      <td> 16</td>\n",
        "      <td>  2014-09-22T11:31:12.15</td>\n",
        "      <td>              formand</td>\n",
        "    </tr>\n",
        "    <tr>\n",
        "      <th>16</th>\n",
        "      <td> 17</td>\n",
        "      <td>  2014-09-11T15:43:08.39</td>\n",
        "      <td>  delegationssekret\u00e6r</td>\n",
        "    </tr>\n",
        "    <tr>\n",
        "      <th>17</th>\n",
        "      <td> 18</td>\n",
        "      <td> 2014-08-06T14:43:17.187</td>\n",
        "      <td>           Observat\u00f8r</td>\n",
        "    </tr>\n",
        "    <tr>\n",
        "      <th>18</th>\n",
        "      <td> 19</td>\n",
        "      <td> 2014-09-11T17:04:59.773</td>\n",
        "      <td>    udvalgsassistent2</td>\n",
        "    </tr>\n",
        "    <tr>\n",
        "      <th>19</th>\n",
        "      <td> 20</td>\n",
        "      <td> 2014-09-11T18:18:25.843</td>\n",
        "      <td>        Ministertitel</td>\n",
        "    </tr>\n",
        "  </tbody>\n",
        "</table>\n",
        "</div>"
       ],
       "metadata": {},
       "output_type": "pyout",
       "prompt_number": 9,
       "text": [
        "    id          opdateringsdato                 rolle\n",
        "0    1  2014-08-06T14:43:17.187        1. n\u00e6stformand\n",
        "1    2  2014-08-06T14:43:17.187      udvalgsassistent\n",
        "2    3  2014-08-06T14:43:17.187    Tidligere minister\n",
        "3    4  2014-08-06T14:43:17.187      udvalgssekret\u00e6r2\n",
        "4    5  2014-08-06T14:43:17.187        3. n\u00e6stformand\n",
        "5    6   2014-10-01T09:46:58.33    orlov med vederlag\n",
        "6    7  2014-08-06T14:43:17.187  folketingets formand\n",
        "7    8  2014-08-06T14:43:17.187              Minister\n",
        "8    9  2014-08-06T14:43:17.187        2. n\u00e6stformand\n",
        "9   10   2014-09-12T10:35:36.83         stedfortr\u00e6der\n",
        "10  11  2014-08-06T14:43:17.187        4. n\u00e6stformand\n",
        "11  12   2014-10-01T09:46:58.33   orlov uden vederlag\n",
        "12  13   2014-09-11T09:54:11.38       udvalgssekret\u00e6r\n",
        "13  14    2014-09-11T17:56:38.7           n\u00e6stformand\n",
        "14  15   2014-09-09T13:59:51.59                medlem\n",
        "15  16   2014-09-22T11:31:12.15               formand\n",
        "16  17   2014-09-11T15:43:08.39   delegationssekret\u00e6r\n",
        "17  18  2014-08-06T14:43:17.187            Observat\u00f8r\n",
        "18  19  2014-09-11T17:04:59.773     udvalgsassistent2\n",
        "19  20  2014-09-11T18:18:25.843         Ministertitel"
       ]
      }
     ],
     "prompt_number": 9
    },
    {
     "cell_type": "code",
     "collapsed": false,
     "input": [
      "# Limited download of akt\u00f8r-akt\u00f8r table (it is quite bit) \n",
      "url = 'http://oda.ft.dk/api/Akt%C3%B8rAkt%C3%B8r?$inlinecount=allpages'\n",
      "response = requests.get(url).json()\n",
      "aktor_aktor_list = []\n",
      "for _ in range(10):\n",
      "    try: \n",
      "        aktor_aktor_list.extend(response['value'])\n",
      "        url = response['odata.nextLink']\n",
      "        response = requests.get(url).json()\n",
      "    except:\n",
      "        break\n",
      "    print(url)\n",
      "    time.sleep(3)"
     ],
     "language": "python",
     "metadata": {},
     "outputs": [
      {
       "output_type": "stream",
       "stream": "stdout",
       "text": [
        "http://oda.ft.dk/api/Akt%C3%B8rAkt%C3%B8r?$inlinecount=allpages&$skip=20\n",
        "http://oda.ft.dk/api/Akt%C3%B8rAkt%C3%B8r?$inlinecount=allpages&$skip=40"
       ]
      },
      {
       "output_type": "stream",
       "stream": "stdout",
       "text": [
        "\n",
        "http://oda.ft.dk/api/Akt%C3%B8rAkt%C3%B8r?$inlinecount=allpages&$skip=60"
       ]
      },
      {
       "output_type": "stream",
       "stream": "stdout",
       "text": [
        "\n",
        "http://oda.ft.dk/api/Akt%C3%B8rAkt%C3%B8r?$inlinecount=allpages&$skip=80"
       ]
      },
      {
       "output_type": "stream",
       "stream": "stdout",
       "text": [
        "\n",
        "http://oda.ft.dk/api/Akt%C3%B8rAkt%C3%B8r?$inlinecount=allpages&$skip=100"
       ]
      },
      {
       "output_type": "stream",
       "stream": "stdout",
       "text": [
        "\n",
        "http://oda.ft.dk/api/Akt%C3%B8rAkt%C3%B8r?$inlinecount=allpages&$skip=120"
       ]
      },
      {
       "output_type": "stream",
       "stream": "stdout",
       "text": [
        "\n",
        "http://oda.ft.dk/api/Akt%C3%B8rAkt%C3%B8r?$inlinecount=allpages&$skip=140"
       ]
      },
      {
       "output_type": "stream",
       "stream": "stdout",
       "text": [
        "\n",
        "http://oda.ft.dk/api/Akt%C3%B8rAkt%C3%B8r?$inlinecount=allpages&$skip=160"
       ]
      },
      {
       "output_type": "stream",
       "stream": "stdout",
       "text": [
        "\n",
        "http://oda.ft.dk/api/Akt%C3%B8rAkt%C3%B8r?$inlinecount=allpages&$skip=180"
       ]
      },
      {
       "output_type": "stream",
       "stream": "stdout",
       "text": [
        "\n",
        "http://oda.ft.dk/api/Akt%C3%B8rAkt%C3%B8r?$inlinecount=allpages&$skip=200"
       ]
      },
      {
       "output_type": "stream",
       "stream": "stdout",
       "text": [
        "\n"
       ]
      }
     ],
     "prompt_number": 10
    },
    {
     "cell_type": "code",
     "collapsed": false,
     "input": [
      "aktor_aktor = pd.DataFrame(aktor_aktor_list)"
     ],
     "language": "python",
     "metadata": {},
     "outputs": [],
     "prompt_number": 11
    },
    {
     "cell_type": "code",
     "collapsed": false,
     "input": [],
     "language": "python",
     "metadata": {},
     "outputs": [],
     "prompt_number": 11
    },
    {
     "cell_type": "code",
     "collapsed": false,
     "input": [
      "url_base = 'http://oda.ft.dk/api/Akt%C3%B8rAkt%C3%B8r?$inlinecount=allpages&$filter=fraakt%C3%B8rid%20eq%20' \n",
      "try: \n",
      "    aktor_aktor_dict_list\n",
      "except:\n",
      "    aktor_aktor_dict_list = {}\n",
      "    \n",
      "for id in aktor_person.id:\n",
      "    if id not in aktor_aktor_dict_list:\n",
      "        print(id)\n",
      "        response = requests.get(url_base + str(id)).json()\n",
      "        aktor_aktor_dict_list[id] = []\n",
      "        while True:\n",
      "            try: \n",
      "                aktor_aktor_dict_list[id].extend(response['value'])\n",
      "                url = response['odata.nextLink']\n",
      "                response = requests.get(url).json()\n",
      "            except:\n",
      "                break\n",
      "            print(url)\n",
      "            time.sleep(3)\n",
      "        break"
     ],
     "language": "python",
     "metadata": {},
     "outputs": [
      {
       "output_type": "stream",
       "stream": "stdout",
       "text": [
        "5\n",
        "http://oda.ft.dk/api/Akt%C3%B8rAkt%C3%B8r?$inlinecount=allpages&$filter=fraakt%C3%B8rid%20eq%205&$skip=20"
       ]
      },
      {
       "output_type": "stream",
       "stream": "stdout",
       "text": [
        "\n",
        "http://oda.ft.dk/api/Akt%C3%B8rAkt%C3%B8r?$inlinecount=allpages&$filter=fraakt%C3%B8rid%20eq%205&$skip=40"
       ]
      },
      {
       "output_type": "stream",
       "stream": "stdout",
       "text": [
        "\n",
        "http://oda.ft.dk/api/Akt%C3%B8rAkt%C3%B8r?$inlinecount=allpages&$filter=fraakt%C3%B8rid%20eq%205&$skip=60"
       ]
      },
      {
       "output_type": "stream",
       "stream": "stdout",
       "text": [
        "\n",
        "http://oda.ft.dk/api/Akt%C3%B8rAkt%C3%B8r?$inlinecount=allpages&$filter=fraakt%C3%B8rid%20eq%205&$skip=80"
       ]
      },
      {
       "output_type": "stream",
       "stream": "stdout",
       "text": [
        "\n",
        "http://oda.ft.dk/api/Akt%C3%B8rAkt%C3%B8r?$inlinecount=allpages&$filter=fraakt%C3%B8rid%20eq%205&$skip=100"
       ]
      },
      {
       "output_type": "stream",
       "stream": "stdout",
       "text": [
        "\n",
        "http://oda.ft.dk/api/Akt%C3%B8rAkt%C3%B8r?$inlinecount=allpages&$filter=fraakt%C3%B8rid%20eq%205&$skip=120"
       ]
      },
      {
       "output_type": "stream",
       "stream": "stdout",
       "text": [
        "\n",
        "http://oda.ft.dk/api/Akt%C3%B8rAkt%C3%B8r?$inlinecount=allpages&$filter=fraakt%C3%B8rid%20eq%205&$skip=140"
       ]
      },
      {
       "output_type": "stream",
       "stream": "stdout",
       "text": [
        "\n",
        "http://oda.ft.dk/api/Akt%C3%B8rAkt%C3%B8r?$inlinecount=allpages&$filter=fraakt%C3%B8rid%20eq%205&$skip=160"
       ]
      },
      {
       "output_type": "stream",
       "stream": "stdout",
       "text": [
        "\n",
        "http://oda.ft.dk/api/Akt%C3%B8rAkt%C3%B8r?$inlinecount=allpages&$filter=fraakt%C3%B8rid%20eq%205&$skip=180"
       ]
      },
      {
       "output_type": "stream",
       "stream": "stdout",
       "text": [
        "\n"
       ]
      }
     ],
     "prompt_number": 12
    },
    {
     "cell_type": "code",
     "collapsed": false,
     "input": [
      "graph_actor_actor = nx.DiGraph()\n",
      "for from_id, fields_list in aktor_aktor_dict_list.items():\n",
      "    for fields in fields_list:\n",
      "        to_id = fields[u'tilakt\\xf8rid']\n",
      "        graph_actor_actor.add_edge(from_id, to_id)"
     ],
     "language": "python",
     "metadata": {},
     "outputs": [],
     "prompt_number": 13
    },
    {
     "cell_type": "code",
     "collapsed": false,
     "input": [
      "positions = nx.layout.spectral_layout(graph_actor_actor)\n",
      "positions = nx.layout.spring_layout(graph_actor_actor, pos=positions)\n",
      "plt.figure(figsize=(45, 30))\n",
      "nx.draw_networkx_nodes(graph_actor_actor, pos=positions, alpha=0.3, linewidths=0)\n",
      "nx.draw_networkx_edges(graph_actor_actor, pos=positions, alpha=0.05)\n",
      "\n",
      "actors_to_display = aktor_aktor_dict_list.keys()\n",
      "for node in graph_actor_actor.nodes():\n",
      "    if node in actors_to_display:\n",
      "        position = positions[node]\n",
      "        name = aktor_person.ix[aktor_person.id == node, 'navn'].values[0]\n",
      "        plt.text(position[0], position[1], name, horizontalalignment='center', verticalalignment='center')\n",
      "\n",
      "plt.axis((0., 1, 0, 1))\n",
      "plt.savefig('Folketinget_aktor_aktor.png')"
     ],
     "language": "python",
     "metadata": {},
     "outputs": [
      {
       "metadata": {},
       "output_type": "display_data",
       "png": "[encoded data removed]",
       "text": [
        "<matplotlib.figure.Figure at 0x7ff729851d10>"
       ]
      }
     ],
     "prompt_number": 18
    },
    {
     "cell_type": "code",
     "collapsed": false,
     "input": [
      "%matplotlib inline"
     ],
     "language": "python",
     "metadata": {},
     "outputs": [],
     "prompt_number": 19
    },
    {
     "cell_type": "code",
     "collapsed": false,
     "input": [],
     "language": "python",
     "metadata": {},
     "outputs": [],
     "prompt_number": 200
    },
    {
     "cell_type": "code",
     "collapsed": false,
     "input": [],
     "language": "python",
     "metadata": {},
     "outputs": [],
     "prompt_number": 199
    },
    {
     "cell_type": "code",
     "collapsed": false,
     "input": [],
     "language": "python",
     "metadata": {},
     "outputs": [],
     "prompt_number": 196
    },
    {
     "cell_type": "code",
     "collapsed": false,
     "input": [],
     "language": "python",
     "metadata": {},
     "outputs": [],
     "prompt_number": 196
    },
    {
     "cell_type": "code",
     "collapsed": false,
     "input": [],
     "language": "python",
     "metadata": {},
     "outputs": []
    }
   ],
   "metadata": {}
  }
 ]
}